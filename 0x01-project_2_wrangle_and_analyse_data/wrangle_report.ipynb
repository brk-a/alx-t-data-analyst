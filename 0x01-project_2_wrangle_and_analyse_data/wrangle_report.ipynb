{
 "cells": [
  {
   "cell_type": "markdown",
   "metadata": {},
   "source": [
    "## Reporting: wrangle_report\n",
    "* Create a **300-600 word written report** called \"wrangle_report.pdf\" or \"wrangle_report.html\" that briefly describes your wrangling efforts. This is to be framed as an internal document."
   ]
  },
  {
   "cell_type": "markdown",
   "metadata": {},
   "source": [
    "# Wrangle and Analyse Data\n",
    "\n",
    "\n",
    "## Analysis and Insights from [WeRateDogs](https://twitter.com/dog_rates)\n",
    "\n",
    "\n",
    "### WeRateDogs\n",
    "\n",
    "`WeRateDogs` is a Twitter account that rates dogs. A dog owner submits a picture and details of a dog. These, together with a rating and a light-hearted comment about said dog, are posted on `WeRateDogs`. \n",
    "\n",
    "The rating, which is out of 10, is, almost always, greater than 10 because _they're good dogs, Brent_.\n",
    "\n",
    "`WeRateDogs` has over 9.3 million followers at the time of writing. These followers have an opinion about a dog; `likes` and `retweets` are how they express said opinion. The count of a tweet’s re-tweet and favourite ('like', if you like) will be of interest.\n",
    "\n",
    "\n",
    "### Sources of Data\n",
    "\n",
    "There are 3 sources of data for this project:\n",
    "* Twitter archive file. This file has been downloaded by `WeRateDogs` from  their Twitter archive. This archive contains basic tweet data (tweet ID, timestamp, text, etc.) for all 5000+ of their tweets as at 01 August, 2017. The file is in `csv` format\n",
    "* Image prediction file. This file contains predictions from a classifier. the classifier predicts the breed of dog in each tweet. The file is in `tsv` format and is downloaded programmatically using the URL that is provided\n",
    "* Twitter API. The idea is to query said API, using tweet IDs from the first data set, to acquire data that might be useful. The API returns a `JSON`-type object that will be stored in a `txt` file\n",
    "\n",
    "\n",
    "### Questions that guide the analysis\n",
    "\n",
    "* What is the average rating of a dog?\n",
    "* Does a dog's `rating` affect the number of `favourites` it receives?\n",
    "* Does a dog's `rating` affect its re-tweet count?\n",
    "* What type of dog is popular?\n",
    "* What is the correlation between the rating of a dog, its retweets and favourites?\n",
    "\n",
    "\n",
    "### Summary of findings\n",
    "\n",
    "* average rating of a dog is c. 1.18, that is to say, 11.8 out of 10\n",
    "* majority of the ratings are close to the mean\n",
    "* there appears to be a weak positive correlation between `ratings` and `favorite_count`\n",
    "* `Labrador retriever` appears to be the most popular\n",
    "* `retriever`-type dogs take the first 2 positions\n",
    "* there appears to be a strong positive correlation between `retweet_count` and `favorite_count`\n",
    "* there appears to be a weak positive correlation between `rating` and `retweet_count`\n",
    "\n",
    "\n",
    "### Challenges\n",
    "\n",
    "* data from the API had to be parsed in a very specific way\n",
    "    * it failed one out of the 3 json linters I used\n",
    "* images in `act_report` may not load properly\n",
    "\n",
    "\n",
    "### Limitations\n",
    "\n",
    "* _c._ 30% of observations were dropped\n",
    "* some assumptions may not hold. example: `floofer` is not an age range\n",
    "* analysis explores correlation only, not correlation and/or causation\n",
    "\n",
    "\n",
    "### Next steps\n",
    "* learn to use `pandas`' in-built functions as much as possible\n",
    "* learn to use `seaborn` properly\n",
    "* learn to formulate better questions\n",
    "* learn advanced data slicing\n",
    "* learn advanced visualisation using `matplotlib` and `seaborn`\n",
    "* work on best practices"
   ]
  },
  {
   "cell_type": "code",
   "execution_count": null,
   "metadata": {},
   "outputs": [],
   "source": []
  }
 ],
 "metadata": {
  "kernelspec": {
   "display_name": "Python 3",
   "language": "python",
   "name": "python3"
  },
  "language_info": {
   "codemirror_mode": {
    "name": "ipython",
    "version": 3
   },
   "file_extension": ".py",
   "mimetype": "text/x-python",
   "name": "python",
   "nbconvert_exporter": "python",
   "pygments_lexer": "ipython3",
   "version": "3.6.3"
  }
 },
 "nbformat": 4,
 "nbformat_minor": 2
}
