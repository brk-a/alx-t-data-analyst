{
 "cells": [
  {
   "cell_type": "markdown",
   "metadata": {},
   "source": [
    "# Part I  - Exploration and Analysis of Loan Data from Prosper\n",
    "\n",
    "### by F Njakai\n",
    "\n"
   ]
  },
  {
   "cell_type": "markdown",
   "metadata": {},
   "source": [
    "## Table of Contents\n",
    "\n",
    "* [Introduction](#intro)\n",
    "* [Preliminary Wrangling](#prel-wrangling)\n",
    "* [Univariate Exploration](#univar)\n",
    "* [Bivariate Exploration](#bivar)\n",
    "* [Multivariate Exploration](#multivar)\n",
    "* [Summary of Findings](#summary)\n",
    "* [Conclusions](#outro)"
   ]
  },
  {
   "cell_type": "markdown",
   "metadata": {},
   "source": [
    "<div id=\"intro\"></div>\n",
    "\n",
    "## Introduction\n",
    "\n",
    "[Prosper](https://www.prosper.com/) is a peer-to-peer lending marketplace. Borrowers apply online for a fixed-rate, fixed-term loan between USD 2,000.00 and USD 40,000.00. Individuals, like you and I, and institutions, Sequoia Capital for example, invest in said loans. Prosper handles all loan servicing on behalf of the borrowers and investors.\n",
    "\n",
    "The data set at hand has 113,937 observations (loans, if you like) and 81 variables; detailed information on the variables can be found [here](https://docs.google.com/spreadsheets/d/1gDyi_L4UvIrLTEC6Wri5nbaMmkGmLQBk-Yx3z0XDEtI/edit#gid=0). \n",
    "\n",
    ">**Rubric Tip**: Your code should not generate any errors, and should use functions, loops where possible to reduce repetitive code. Prefer to use functions to reuse code statements.\n",
    "\n",
    "> **Rubric Tip**: Document your approach and findings in markdown cells. Use comments and docstrings in code cells to document the code functionality.\n",
    "\n",
    ">**Rubric Tip**: Markup cells should have headers and text that organize your thoughts, findings, and what you plan on investigating next."
   ]
  },
  {
   "cell_type": "markdown",
   "metadata": {},
   "source": [
    "<div id=\"prel-wrangling\"></div>\n",
    "\n",
    "\n",
    "\n",
    "## Preliminary Wrangling\n"
   ]
  },
  {
   "cell_type": "code",
   "execution_count": 1,
   "metadata": {},
   "outputs": [],
   "source": [
    "#import all packages and set plots to be embedded inline\n",
    "import numpy as np\n",
    "import pandas as pd\n",
    "import matplotlib.pyplot as plt\n",
    "import seaborn as sns\n",
    "from random import randint\n",
    "\n",
    "%matplotlib inline"
   ]
  },
  {
   "cell_type": "markdown",
   "metadata": {},
   "source": [
    "#### Default settings for plots\n",
    "\n",
    "Automate, as much as possible, the process of creating visualisations\n",
    "\n",
    "Why?\n",
    "* it is efficient\n",
    "* visualisations are consistent\n",
    "\n",
    "How?\n",
    "* create templates\n"
   ]
  },
  {
   "cell_type": "code",
   "execution_count": 2,
   "metadata": {},
   "outputs": [],
   "source": [
    "#template no. 1\n",
    "\n",
    "#blue colour in `seaborn` plots\n",
    "default_blue = sns.color_palette('tab10')[0]\n",
    "\n",
    "#orange colour in `seaborn` plots\n",
    "default_orange = sns.color_palette('tab10')[1]\n",
    "\n",
    "\n",
    "#default"
   ]
  },
  {
   "cell_type": "code",
   "execution_count": 3,
   "metadata": {},
   "outputs": [],
   "source": [
    "#template no. 2\n",
    "\n",
    "'''\n",
    "simple function to create `Figure` object\n",
    "using matplotlib that contains an x-lab,\n",
    "y-lab and title.\n",
    "\n",
    "\"Father Figure\", if you like :)\n",
    "\n",
    "3 params, all type `str`:\n",
    "x_lab, y_lab and title\n",
    "\n",
    "Please make sure all args passed to the \n",
    "function are type `str`\n",
    "\n",
    "return: None\n",
    "'''\n",
    "def create_fig(x_lab: str, y_lab: str, title: str):\n",
    "    \"\"\"create_fig function\"\"\"\n",
    "    try:\n",
    "        #fig size\n",
    "        plt.figure(figsize=(10, 6.18), dpi=216, frameon=False, clear=True)\n",
    "        #x-axis name\n",
    "        plt.xlabel(x_lab)\n",
    "        #y-axis name \n",
    "        plt.ylabel(y_lab)\n",
    "        #title\n",
    "        plt.title(title)\n",
    "    except ModuleNotFoundError:\n",
    "        print(f'Please `import matplotlib.pyplot as plt` and try again')\n",
    "    except:\n",
    "        print(f'Failed to create template')\n",
    "        raise\n"
   ]
  },
  {
   "cell_type": "code",
   "execution_count": 4,
   "metadata": {},
   "outputs": [],
   "source": [
    "##template no. 3\n",
    "\n",
    "'''\n",
    "simple function to create `Figure` object\n",
    "using matplotlib for sub-plots.\n",
    "\n",
    "\"Father Figure\" for subplots :)\n",
    "\n",
    "No params.\n",
    "\n",
    "return: None\n",
    "'''\n",
    "def create_sub():\n",
    "    \"\"\"create_sub function\"\"\"\n",
    "    try:\n",
    "        #fig size\n",
    "        fig, ax = plt.subplots(figsize=(10,6.18), dpi=216)\n",
    "    except ModuleNotFoundError:\n",
    "        print(f'Please `import matplotlib.pyplot as plt` and try again')\n",
    "    except:\n",
    "        print(f'Failed to create template')\n",
    "        raise\n"
   ]
  },
  {
   "cell_type": "markdown",
   "metadata": {},
   "source": [
    "> Load in your dataset and describe its properties through the questions below. Try and motivate your exploration goals through this section.\n"
   ]
  },
  {
   "cell_type": "code",
   "execution_count": 5,
   "metadata": {},
   "outputs": [],
   "source": [
    "#see if a df exists\n",
    "\n",
    "'''\n",
    "a simple function to see if a df exists\n",
    "\n",
    "takes in 1 param: name of the df\n",
    "\n",
    "Please do not pass the arg as a string\n",
    "\n",
    "return: None\n",
    "'''\n",
    "\n",
    "def confirm_exists(df):\n",
    "    \"\"\" function confirm_exists \"\"\"\n",
    "    if not df.empty:\n",
    "        print(f'This dataframe exists')\n",
    "        return\n",
    "    print(f'This dataframe does not exist')\n",
    "    \n",
    "\n"
   ]
  },
  {
   "cell_type": "code",
   "execution_count": 6,
   "metadata": {},
   "outputs": [
    {
     "name": "stdout",
     "output_type": "stream",
     "text": [
      "This dataframe exists\n"
     ]
    }
   ],
   "source": [
    "#load the data set\n",
    "df = pd.read_csv('prosperLoanData.csv', sep=',')\n",
    "confirm_exists(df)"
   ]
  },
  {
   "cell_type": "code",
   "execution_count": 4,
   "metadata": {},
   "outputs": [
    {
     "data": {
      "text/plain": [
       "(113937, 81)"
      ]
     },
     "execution_count": 4,
     "metadata": {},
     "output_type": "execute_result"
    }
   ],
   "source": [
    "df.shape"
   ]
  },
  {
   "cell_type": "code",
   "execution_count": 5,
   "metadata": {},
   "outputs": [
    {
     "data": {
      "text/plain": [
       "False    113937\n",
       "dtype: int64"
      ]
     },
     "execution_count": 5,
     "metadata": {},
     "output_type": "execute_result"
    }
   ],
   "source": [
    "df.duplicated().value_counts()"
   ]
  },
  {
   "cell_type": "code",
   "execution_count": 8,
   "metadata": {},
   "outputs": [
    {
     "name": "stdout",
     "output_type": "stream",
     "text": [
      "<class 'pandas.core.frame.DataFrame'>\n",
      "RangeIndex: 113937 entries, 0 to 113936\n",
      "Data columns (total 81 columns):\n",
      "ListingKey                             113937 non-null object\n",
      "ListingNumber                          113937 non-null int64\n",
      "ListingCreationDate                    113937 non-null object\n",
      "CreditGrade                            28953 non-null object\n",
      "Term                                   113937 non-null int64\n",
      "LoanStatus                             113937 non-null object\n",
      "ClosedDate                             55089 non-null object\n",
      "BorrowerAPR                            113912 non-null float64\n",
      "BorrowerRate                           113937 non-null float64\n",
      "LenderYield                            113937 non-null float64\n",
      "EstimatedEffectiveYield                84853 non-null float64\n",
      "EstimatedLoss                          84853 non-null float64\n",
      "EstimatedReturn                        84853 non-null float64\n",
      "ProsperRating (numeric)                84853 non-null float64\n",
      "ProsperRating (Alpha)                  84853 non-null object\n",
      "ProsperScore                           84853 non-null float64\n",
      "ListingCategory (numeric)              113937 non-null int64\n",
      "BorrowerState                          108422 non-null object\n",
      "Occupation                             110349 non-null object\n",
      "EmploymentStatus                       111682 non-null object\n",
      "EmploymentStatusDuration               106312 non-null float64\n",
      "IsBorrowerHomeowner                    113937 non-null bool\n",
      "CurrentlyInGroup                       113937 non-null bool\n",
      "GroupKey                               13341 non-null object\n",
      "DateCreditPulled                       113937 non-null object\n",
      "CreditScoreRangeLower                  113346 non-null float64\n",
      "CreditScoreRangeUpper                  113346 non-null float64\n",
      "FirstRecordedCreditLine                113240 non-null object\n",
      "CurrentCreditLines                     106333 non-null float64\n",
      "OpenCreditLines                        106333 non-null float64\n",
      "TotalCreditLinespast7years             113240 non-null float64\n",
      "OpenRevolvingAccounts                  113937 non-null int64\n",
      "OpenRevolvingMonthlyPayment            113937 non-null float64\n",
      "InquiriesLast6Months                   113240 non-null float64\n",
      "TotalInquiries                         112778 non-null float64\n",
      "CurrentDelinquencies                   113240 non-null float64\n",
      "AmountDelinquent                       106315 non-null float64\n",
      "DelinquenciesLast7Years                112947 non-null float64\n",
      "PublicRecordsLast10Years               113240 non-null float64\n",
      "PublicRecordsLast12Months              106333 non-null float64\n",
      "RevolvingCreditBalance                 106333 non-null float64\n",
      "BankcardUtilization                    106333 non-null float64\n",
      "AvailableBankcardCredit                106393 non-null float64\n",
      "TotalTrades                            106393 non-null float64\n",
      "TradesNeverDelinquent (percentage)     106393 non-null float64\n",
      "TradesOpenedLast6Months                106393 non-null float64\n",
      "DebtToIncomeRatio                      105383 non-null float64\n",
      "IncomeRange                            113937 non-null object\n",
      "IncomeVerifiable                       113937 non-null bool\n",
      "StatedMonthlyIncome                    113937 non-null float64\n",
      "LoanKey                                113937 non-null object\n",
      "TotalProsperLoans                      22085 non-null float64\n",
      "TotalProsperPaymentsBilled             22085 non-null float64\n",
      "OnTimeProsperPayments                  22085 non-null float64\n",
      "ProsperPaymentsLessThanOneMonthLate    22085 non-null float64\n",
      "ProsperPaymentsOneMonthPlusLate        22085 non-null float64\n",
      "ProsperPrincipalBorrowed               22085 non-null float64\n",
      "ProsperPrincipalOutstanding            22085 non-null float64\n",
      "ScorexChangeAtTimeOfListing            18928 non-null float64\n",
      "LoanCurrentDaysDelinquent              113937 non-null int64\n",
      "LoanFirstDefaultedCycleNumber          16952 non-null float64\n",
      "LoanMonthsSinceOrigination             113937 non-null int64\n",
      "LoanNumber                             113937 non-null int64\n",
      "LoanOriginalAmount                     113937 non-null int64\n",
      "LoanOriginationDate                    113937 non-null object\n",
      "LoanOriginationQuarter                 113937 non-null object\n",
      "MemberKey                              113937 non-null object\n",
      "MonthlyLoanPayment                     113937 non-null float64\n",
      "LP_CustomerPayments                    113937 non-null float64\n",
      "LP_CustomerPrincipalPayments           113937 non-null float64\n",
      "LP_InterestandFees                     113937 non-null float64\n",
      "LP_ServiceFees                         113937 non-null float64\n",
      "LP_CollectionFees                      113937 non-null float64\n",
      "LP_GrossPrincipalLoss                  113937 non-null float64\n",
      "LP_NetPrincipalLoss                    113937 non-null float64\n",
      "LP_NonPrincipalRecoverypayments        113937 non-null float64\n",
      "PercentFunded                          113937 non-null float64\n",
      "Recommendations                        113937 non-null int64\n",
      "InvestmentFromFriendsCount             113937 non-null int64\n",
      "InvestmentFromFriendsAmount            113937 non-null float64\n",
      "Investors                              113937 non-null int64\n",
      "dtypes: bool(3), float64(50), int64(11), object(17)\n",
      "memory usage: 68.1+ MB\n"
     ]
    }
   ],
   "source": [
    "df.info();"
   ]
  },
  {
   "cell_type": "code",
   "execution_count": 12,
   "metadata": {},
   "outputs": [
    {
     "data": {
      "text/html": [
       "<div>\n",
       "<style scoped>\n",
       "    .dataframe tbody tr th:only-of-type {\n",
       "        vertical-align: middle;\n",
       "    }\n",
       "\n",
       "    .dataframe tbody tr th {\n",
       "        vertical-align: top;\n",
       "    }\n",
       "\n",
       "    .dataframe thead th {\n",
       "        text-align: right;\n",
       "    }\n",
       "</style>\n",
       "<table border=\"1\" class=\"dataframe\">\n",
       "  <thead>\n",
       "    <tr style=\"text-align: right;\">\n",
       "      <th></th>\n",
       "      <th>ListingKey</th>\n",
       "      <th>ListingNumber</th>\n",
       "      <th>ListingCreationDate</th>\n",
       "      <th>CreditGrade</th>\n",
       "      <th>Term</th>\n",
       "      <th>LoanStatus</th>\n",
       "      <th>ClosedDate</th>\n",
       "      <th>BorrowerAPR</th>\n",
       "      <th>BorrowerRate</th>\n",
       "      <th>LenderYield</th>\n",
       "      <th>...</th>\n",
       "      <th>LP_ServiceFees</th>\n",
       "      <th>LP_CollectionFees</th>\n",
       "      <th>LP_GrossPrincipalLoss</th>\n",
       "      <th>LP_NetPrincipalLoss</th>\n",
       "      <th>LP_NonPrincipalRecoverypayments</th>\n",
       "      <th>PercentFunded</th>\n",
       "      <th>Recommendations</th>\n",
       "      <th>InvestmentFromFriendsCount</th>\n",
       "      <th>InvestmentFromFriendsAmount</th>\n",
       "      <th>Investors</th>\n",
       "    </tr>\n",
       "  </thead>\n",
       "  <tbody>\n",
       "    <tr>\n",
       "      <th>95131</th>\n",
       "      <td>2A443364897206503365C0F</td>\n",
       "      <td>948</td>\n",
       "      <td>2006-03-01 03:08:25.490000000</td>\n",
       "      <td>HR</td>\n",
       "      <td>36</td>\n",
       "      <td>Defaulted</td>\n",
       "      <td>2006-11-08 00:00:00</td>\n",
       "      <td>0.29776</td>\n",
       "      <td>0.2900</td>\n",
       "      <td>0.2850</td>\n",
       "      <td>...</td>\n",
       "      <td>-3.18</td>\n",
       "      <td>0.00</td>\n",
       "      <td>2424.97</td>\n",
       "      <td>2424.97</td>\n",
       "      <td>0.0</td>\n",
       "      <td>1.0</td>\n",
       "      <td>0</td>\n",
       "      <td>0</td>\n",
       "      <td>0.0</td>\n",
       "      <td>32</td>\n",
       "    </tr>\n",
       "    <tr>\n",
       "      <th>94117</th>\n",
       "      <td>F53735261559946411A012C</td>\n",
       "      <td>526347</td>\n",
       "      <td>2011-09-08 14:42:39.037000000</td>\n",
       "      <td>NaN</td>\n",
       "      <td>36</td>\n",
       "      <td>Current</td>\n",
       "      <td>NaN</td>\n",
       "      <td>0.30532</td>\n",
       "      <td>0.2699</td>\n",
       "      <td>0.2599</td>\n",
       "      <td>...</td>\n",
       "      <td>-31.40</td>\n",
       "      <td>-13.06</td>\n",
       "      <td>0.00</td>\n",
       "      <td>0.00</td>\n",
       "      <td>0.0</td>\n",
       "      <td>1.0</td>\n",
       "      <td>0</td>\n",
       "      <td>0</td>\n",
       "      <td>0.0</td>\n",
       "      <td>14</td>\n",
       "    </tr>\n",
       "    <tr>\n",
       "      <th>29461</th>\n",
       "      <td>33F635700508690226D72F1</td>\n",
       "      <td>703764</td>\n",
       "      <td>2013-01-22 16:49:41.223000000</td>\n",
       "      <td>NaN</td>\n",
       "      <td>60</td>\n",
       "      <td>Chargedoff</td>\n",
       "      <td>2013-08-30 00:00:00</td>\n",
       "      <td>0.22262</td>\n",
       "      <td>0.1982</td>\n",
       "      <td>0.1882</td>\n",
       "      <td>...</td>\n",
       "      <td>-35.37</td>\n",
       "      <td>0.00</td>\n",
       "      <td>21539.69</td>\n",
       "      <td>21539.69</td>\n",
       "      <td>0.0</td>\n",
       "      <td>1.0</td>\n",
       "      <td>0</td>\n",
       "      <td>0</td>\n",
       "      <td>0.0</td>\n",
       "      <td>357</td>\n",
       "    </tr>\n",
       "    <tr>\n",
       "      <th>41774</th>\n",
       "      <td>15DA35369257124735F907A</td>\n",
       "      <td>553091</td>\n",
       "      <td>2012-01-21 00:51:01.963000000</td>\n",
       "      <td>NaN</td>\n",
       "      <td>60</td>\n",
       "      <td>Current</td>\n",
       "      <td>NaN</td>\n",
       "      <td>0.15784</td>\n",
       "      <td>0.1396</td>\n",
       "      <td>0.1296</td>\n",
       "      <td>...</td>\n",
       "      <td>-176.17</td>\n",
       "      <td>0.00</td>\n",
       "      <td>0.00</td>\n",
       "      <td>0.00</td>\n",
       "      <td>0.0</td>\n",
       "      <td>1.0</td>\n",
       "      <td>0</td>\n",
       "      <td>0</td>\n",
       "      <td>0.0</td>\n",
       "      <td>30</td>\n",
       "    </tr>\n",
       "    <tr>\n",
       "      <th>86906</th>\n",
       "      <td>B4B735819173748414A4157</td>\n",
       "      <td>805198</td>\n",
       "      <td>2013-06-11 11:12:28.510000000</td>\n",
       "      <td>NaN</td>\n",
       "      <td>60</td>\n",
       "      <td>Completed</td>\n",
       "      <td>2013-11-13 00:00:00</td>\n",
       "      <td>0.21156</td>\n",
       "      <td>0.1874</td>\n",
       "      <td>0.1774</td>\n",
       "      <td>...</td>\n",
       "      <td>-62.22</td>\n",
       "      <td>0.00</td>\n",
       "      <td>0.00</td>\n",
       "      <td>0.00</td>\n",
       "      <td>0.0</td>\n",
       "      <td>1.0</td>\n",
       "      <td>0</td>\n",
       "      <td>0</td>\n",
       "      <td>0.0</td>\n",
       "      <td>75</td>\n",
       "    </tr>\n",
       "    <tr>\n",
       "      <th>62677</th>\n",
       "      <td>1EFD3603289854858A47913</td>\n",
       "      <td>1246163</td>\n",
       "      <td>2014-03-08 07:51:47.843000000</td>\n",
       "      <td>NaN</td>\n",
       "      <td>60</td>\n",
       "      <td>Current</td>\n",
       "      <td>NaN</td>\n",
       "      <td>0.20321</td>\n",
       "      <td>0.1790</td>\n",
       "      <td>0.1690</td>\n",
       "      <td>...</td>\n",
       "      <td>0.00</td>\n",
       "      <td>0.00</td>\n",
       "      <td>0.00</td>\n",
       "      <td>0.00</td>\n",
       "      <td>0.0</td>\n",
       "      <td>1.0</td>\n",
       "      <td>0</td>\n",
       "      <td>0</td>\n",
       "      <td>0.0</td>\n",
       "      <td>1</td>\n",
       "    </tr>\n",
       "    <tr>\n",
       "      <th>82361</th>\n",
       "      <td>568C3549206755043E3DF93</td>\n",
       "      <td>593169</td>\n",
       "      <td>2012-05-26 13:23:32.223000000</td>\n",
       "      <td>NaN</td>\n",
       "      <td>36</td>\n",
       "      <td>Completed</td>\n",
       "      <td>2012-09-28 00:00:00</td>\n",
       "      <td>0.15538</td>\n",
       "      <td>0.1270</td>\n",
       "      <td>0.1170</td>\n",
       "      <td>...</td>\n",
       "      <td>-70.46</td>\n",
       "      <td>0.00</td>\n",
       "      <td>0.00</td>\n",
       "      <td>0.00</td>\n",
       "      <td>0.0</td>\n",
       "      <td>1.0</td>\n",
       "      <td>0</td>\n",
       "      <td>0</td>\n",
       "      <td>0.0</td>\n",
       "      <td>463</td>\n",
       "    </tr>\n",
       "    <tr>\n",
       "      <th>50369</th>\n",
       "      <td>D334350127813015687BB91</td>\n",
       "      <td>486105</td>\n",
       "      <td>2010-11-29 18:35:47.087000000</td>\n",
       "      <td>NaN</td>\n",
       "      <td>36</td>\n",
       "      <td>Completed</td>\n",
       "      <td>2014-01-17 00:00:00</td>\n",
       "      <td>0.35858</td>\n",
       "      <td>0.3220</td>\n",
       "      <td>0.3120</td>\n",
       "      <td>...</td>\n",
       "      <td>-136.16</td>\n",
       "      <td>-108.07</td>\n",
       "      <td>0.00</td>\n",
       "      <td>0.00</td>\n",
       "      <td>0.0</td>\n",
       "      <td>1.0</td>\n",
       "      <td>0</td>\n",
       "      <td>0</td>\n",
       "      <td>0.0</td>\n",
       "      <td>131</td>\n",
       "    </tr>\n",
       "    <tr>\n",
       "      <th>40198</th>\n",
       "      <td>8F3E35276522198506A1F80</td>\n",
       "      <td>531277</td>\n",
       "      <td>2011-10-06 11:43:05.020000000</td>\n",
       "      <td>NaN</td>\n",
       "      <td>36</td>\n",
       "      <td>Completed</td>\n",
       "      <td>2013-01-08 00:00:00</td>\n",
       "      <td>0.27467</td>\n",
       "      <td>0.2399</td>\n",
       "      <td>0.2299</td>\n",
       "      <td>...</td>\n",
       "      <td>-106.30</td>\n",
       "      <td>0.00</td>\n",
       "      <td>0.00</td>\n",
       "      <td>0.00</td>\n",
       "      <td>0.0</td>\n",
       "      <td>1.0</td>\n",
       "      <td>0</td>\n",
       "      <td>0</td>\n",
       "      <td>0.0</td>\n",
       "      <td>111</td>\n",
       "    </tr>\n",
       "    <tr>\n",
       "      <th>73897</th>\n",
       "      <td>4292358965888224511D914</td>\n",
       "      <td>900907</td>\n",
       "      <td>2013-09-16 18:44:56.320000000</td>\n",
       "      <td>NaN</td>\n",
       "      <td>60</td>\n",
       "      <td>Current</td>\n",
       "      <td>NaN</td>\n",
       "      <td>0.20808</td>\n",
       "      <td>0.1840</td>\n",
       "      <td>0.1740</td>\n",
       "      <td>...</td>\n",
       "      <td>-61.56</td>\n",
       "      <td>0.00</td>\n",
       "      <td>0.00</td>\n",
       "      <td>0.00</td>\n",
       "      <td>0.0</td>\n",
       "      <td>1.0</td>\n",
       "      <td>0</td>\n",
       "      <td>0</td>\n",
       "      <td>0.0</td>\n",
       "      <td>1</td>\n",
       "    </tr>\n",
       "    <tr>\n",
       "      <th>80541</th>\n",
       "      <td>479D3545799252793E7ED93</td>\n",
       "      <td>587630</td>\n",
       "      <td>2012-05-09 12:58:52.693000000</td>\n",
       "      <td>NaN</td>\n",
       "      <td>36</td>\n",
       "      <td>Current</td>\n",
       "      <td>NaN</td>\n",
       "      <td>0.35797</td>\n",
       "      <td>0.3177</td>\n",
       "      <td>0.3077</td>\n",
       "      <td>...</td>\n",
       "      <td>-42.10</td>\n",
       "      <td>0.00</td>\n",
       "      <td>0.00</td>\n",
       "      <td>0.00</td>\n",
       "      <td>0.0</td>\n",
       "      <td>1.0</td>\n",
       "      <td>0</td>\n",
       "      <td>0</td>\n",
       "      <td>0.0</td>\n",
       "      <td>11</td>\n",
       "    </tr>\n",
       "    <tr>\n",
       "      <th>70033</th>\n",
       "      <td>3BD435972642547750EC4EA</td>\n",
       "      <td>1044967</td>\n",
       "      <td>2013-12-11 09:03:20.550000000</td>\n",
       "      <td>NaN</td>\n",
       "      <td>36</td>\n",
       "      <td>Current</td>\n",
       "      <td>NaN</td>\n",
       "      <td>0.18990</td>\n",
       "      <td>0.1535</td>\n",
       "      <td>0.1435</td>\n",
       "      <td>...</td>\n",
       "      <td>-5.33</td>\n",
       "      <td>0.00</td>\n",
       "      <td>0.00</td>\n",
       "      <td>0.00</td>\n",
       "      <td>0.0</td>\n",
       "      <td>1.0</td>\n",
       "      <td>0</td>\n",
       "      <td>0</td>\n",
       "      <td>0.0</td>\n",
       "      <td>1</td>\n",
       "    </tr>\n",
       "    <tr>\n",
       "      <th>12541</th>\n",
       "      <td>A2643547692401223C3887B</td>\n",
       "      <td>593533</td>\n",
       "      <td>2012-05-28 12:35:59.783000000</td>\n",
       "      <td>NaN</td>\n",
       "      <td>36</td>\n",
       "      <td>Current</td>\n",
       "      <td>NaN</td>\n",
       "      <td>0.08829</td>\n",
       "      <td>0.0749</td>\n",
       "      <td>0.0649</td>\n",
       "      <td>...</td>\n",
       "      <td>-77.81</td>\n",
       "      <td>0.00</td>\n",
       "      <td>0.00</td>\n",
       "      <td>0.00</td>\n",
       "      <td>0.0</td>\n",
       "      <td>1.0</td>\n",
       "      <td>0</td>\n",
       "      <td>0</td>\n",
       "      <td>0.0</td>\n",
       "      <td>151</td>\n",
       "    </tr>\n",
       "  </tbody>\n",
       "</table>\n",
       "<p>13 rows × 81 columns</p>\n",
       "</div>"
      ],
      "text/plain": [
       "                    ListingKey  ListingNumber            ListingCreationDate  \\\n",
       "95131  2A443364897206503365C0F            948  2006-03-01 03:08:25.490000000   \n",
       "94117  F53735261559946411A012C         526347  2011-09-08 14:42:39.037000000   \n",
       "29461  33F635700508690226D72F1         703764  2013-01-22 16:49:41.223000000   \n",
       "41774  15DA35369257124735F907A         553091  2012-01-21 00:51:01.963000000   \n",
       "86906  B4B735819173748414A4157         805198  2013-06-11 11:12:28.510000000   \n",
       "62677  1EFD3603289854858A47913        1246163  2014-03-08 07:51:47.843000000   \n",
       "82361  568C3549206755043E3DF93         593169  2012-05-26 13:23:32.223000000   \n",
       "50369  D334350127813015687BB91         486105  2010-11-29 18:35:47.087000000   \n",
       "40198  8F3E35276522198506A1F80         531277  2011-10-06 11:43:05.020000000   \n",
       "73897  4292358965888224511D914         900907  2013-09-16 18:44:56.320000000   \n",
       "80541  479D3545799252793E7ED93         587630  2012-05-09 12:58:52.693000000   \n",
       "70033  3BD435972642547750EC4EA        1044967  2013-12-11 09:03:20.550000000   \n",
       "12541  A2643547692401223C3887B         593533  2012-05-28 12:35:59.783000000   \n",
       "\n",
       "      CreditGrade  Term  LoanStatus           ClosedDate  BorrowerAPR  \\\n",
       "95131          HR    36   Defaulted  2006-11-08 00:00:00      0.29776   \n",
       "94117         NaN    36     Current                  NaN      0.30532   \n",
       "29461         NaN    60  Chargedoff  2013-08-30 00:00:00      0.22262   \n",
       "41774         NaN    60     Current                  NaN      0.15784   \n",
       "86906         NaN    60   Completed  2013-11-13 00:00:00      0.21156   \n",
       "62677         NaN    60     Current                  NaN      0.20321   \n",
       "82361         NaN    36   Completed  2012-09-28 00:00:00      0.15538   \n",
       "50369         NaN    36   Completed  2014-01-17 00:00:00      0.35858   \n",
       "40198         NaN    36   Completed  2013-01-08 00:00:00      0.27467   \n",
       "73897         NaN    60     Current                  NaN      0.20808   \n",
       "80541         NaN    36     Current                  NaN      0.35797   \n",
       "70033         NaN    36     Current                  NaN      0.18990   \n",
       "12541         NaN    36     Current                  NaN      0.08829   \n",
       "\n",
       "       BorrowerRate  LenderYield    ...     LP_ServiceFees  LP_CollectionFees  \\\n",
       "95131        0.2900       0.2850    ...              -3.18               0.00   \n",
       "94117        0.2699       0.2599    ...             -31.40             -13.06   \n",
       "29461        0.1982       0.1882    ...             -35.37               0.00   \n",
       "41774        0.1396       0.1296    ...            -176.17               0.00   \n",
       "86906        0.1874       0.1774    ...             -62.22               0.00   \n",
       "62677        0.1790       0.1690    ...               0.00               0.00   \n",
       "82361        0.1270       0.1170    ...             -70.46               0.00   \n",
       "50369        0.3220       0.3120    ...            -136.16            -108.07   \n",
       "40198        0.2399       0.2299    ...            -106.30               0.00   \n",
       "73897        0.1840       0.1740    ...             -61.56               0.00   \n",
       "80541        0.3177       0.3077    ...             -42.10               0.00   \n",
       "70033        0.1535       0.1435    ...              -5.33               0.00   \n",
       "12541        0.0749       0.0649    ...             -77.81               0.00   \n",
       "\n",
       "       LP_GrossPrincipalLoss  LP_NetPrincipalLoss  \\\n",
       "95131                2424.97              2424.97   \n",
       "94117                   0.00                 0.00   \n",
       "29461               21539.69             21539.69   \n",
       "41774                   0.00                 0.00   \n",
       "86906                   0.00                 0.00   \n",
       "62677                   0.00                 0.00   \n",
       "82361                   0.00                 0.00   \n",
       "50369                   0.00                 0.00   \n",
       "40198                   0.00                 0.00   \n",
       "73897                   0.00                 0.00   \n",
       "80541                   0.00                 0.00   \n",
       "70033                   0.00                 0.00   \n",
       "12541                   0.00                 0.00   \n",
       "\n",
       "      LP_NonPrincipalRecoverypayments  PercentFunded  Recommendations  \\\n",
       "95131                             0.0            1.0                0   \n",
       "94117                             0.0            1.0                0   \n",
       "29461                             0.0            1.0                0   \n",
       "41774                             0.0            1.0                0   \n",
       "86906                             0.0            1.0                0   \n",
       "62677                             0.0            1.0                0   \n",
       "82361                             0.0            1.0                0   \n",
       "50369                             0.0            1.0                0   \n",
       "40198                             0.0            1.0                0   \n",
       "73897                             0.0            1.0                0   \n",
       "80541                             0.0            1.0                0   \n",
       "70033                             0.0            1.0                0   \n",
       "12541                             0.0            1.0                0   \n",
       "\n",
       "      InvestmentFromFriendsCount InvestmentFromFriendsAmount Investors  \n",
       "95131                          0                         0.0        32  \n",
       "94117                          0                         0.0        14  \n",
       "29461                          0                         0.0       357  \n",
       "41774                          0                         0.0        30  \n",
       "86906                          0                         0.0        75  \n",
       "62677                          0                         0.0         1  \n",
       "82361                          0                         0.0       463  \n",
       "50369                          0                         0.0       131  \n",
       "40198                          0                         0.0       111  \n",
       "73897                          0                         0.0         1  \n",
       "80541                          0                         0.0        11  \n",
       "70033                          0                         0.0         1  \n",
       "12541                          0                         0.0       151  \n",
       "\n",
       "[13 rows x 81 columns]"
      ]
     },
     "execution_count": 12,
     "metadata": {},
     "output_type": "execute_result"
    }
   ],
   "source": [
    "df.sample(randint(5, 15))"
   ]
  },
  {
   "cell_type": "code",
   "execution_count": null,
   "metadata": {},
   "outputs": [],
   "source": []
  },
  {
   "cell_type": "markdown",
   "metadata": {},
   "source": [
    "### Structure\n",
    "\n",
    "#### Overall\n",
    "\n",
    "* 113,937 observations\n",
    "* 81 variables\n",
    "    * 3 of type `bool`\n",
    "    * 50 of type `float`\n",
    "    * 11 of type `int`\n",
    "    * 17 of type `str`\n",
    "* variable `LoanOriginationDate` is of type `str`\n",
    "* more...\n",
    "\n",
    "#### Missing and null values\n",
    "\n",
    "* some observations in `df` have missing or null values\n",
    "    * case(s) in point\n",
    "        * 100,596 under variable `GroupKey`\n",
    "        * 96,985 under variable `LoanFirstDefaultedCycleNumber`\n",
    "    * will decide which ones to fill and/or drop on a case-by-case basis\n",
    "        * Why?\n",
    "            * some variables are [qualitative](https://www.statology.org/qualitative-vs-quantitative-variables/)\n",
    "            * some variables apply to an observation conditionally\n",
    "                * example: `GroupKey` is about groups that observations fall under; the number of said groups cannot  be reasonably expected to be 113,937\n",
    "                \n",
    "\n",
    "#### Duplicated observations\n",
    "\n",
    "* `df` has no duplicated observations\n",
    "\n",
    "#### Multiple values for a variable\n",
    "\n",
    "* observations in `df` have 1 value per variable \n",
    "\n",
    "\n",
    "\n",
    "### Feature(s) of interest in dataset\n",
    "\n",
    "> Your answer here!\n",
    "\n",
    "### Feature(s) in the dataset that may help support investigation into feature(s) of interest\n",
    "\n",
    "> Your answer here!\n",
    "\n",
    "\n",
    "### Clean the data set\n",
    "\n",
    "* will perform a chap-chap cleaning process viz:\n",
    "    * drop variables whose missing values are above a threshold (in this case, 15%)\n",
    "    * drop observations whose missing values are above a threshold (in this case, 10%)"
   ]
  },
  {
   "cell_type": "code",
   "execution_count": 7,
   "metadata": {
    "scrolled": true
   },
   "outputs": [
    {
     "data": {
      "text/plain": [
       "(113937, 72)"
      ]
     },
     "execution_count": 7,
     "metadata": {},
     "output_type": "execute_result"
    }
   ],
   "source": [
    "#drop variables whose missing values are above the threshold\n",
    "df.drop(columns=df.columns[df.eq(0).mean()>0.85], inplace=True)\n",
    "df.shape"
   ]
  },
  {
   "cell_type": "code",
   "execution_count": 8,
   "metadata": {},
   "outputs": [
    {
     "name": "stderr",
     "output_type": "stream",
     "text": [
      "/opt/conda/lib/python3.6/site-packages/pandas/core/indexes/base.py:2095: VisibleDeprecationWarning: boolean index did not match indexed array along dimension 0; dimension is 113937 but corresponding boolean dimension is 72\n",
      "  result = getitem(key)\n"
     ]
    },
    {
     "data": {
      "text/plain": [
       "(113937, 72)"
      ]
     },
     "execution_count": 8,
     "metadata": {},
     "output_type": "execute_result"
    }
   ],
   "source": [
    "#drop observations whose missing values are above the threshold\n",
    "df.drop(index=df.index[df.eq(0).mean()>0.9], inplace=True)\n",
    "df.shape"
   ]
  },
  {
   "cell_type": "code",
   "execution_count": 9,
   "metadata": {},
   "outputs": [],
   "source": [
    "#change the type of variable `LoanOriginationDate` to `datetime`\n",
    "df.LoanOriginationDate = pd.to_datetime(df.LoanOriginationDate)"
   ]
  },
  {
   "cell_type": "code",
   "execution_count": null,
   "metadata": {},
   "outputs": [],
   "source": []
  },
  {
   "cell_type": "markdown",
   "metadata": {},
   "source": [
    "<div id=\"univar\"></div>\n",
    "\n",
    "## Univariate Exploration\n",
    "\n",
    "> In this section, investigate distributions of individual variables. If\n",
    "you see unusual points or outliers, take a deeper look to clean things up\n",
    "and prepare yourself to look at relationships between variables.\n",
    "\n",
    "\n",
    "> **Rubric Tip**: The project (Parts I alone) should have at least 15 visualizations distributed over univariate, bivariate, and multivariate plots to explore many relationships in the data set.  Use reasoning to justify the flow of the exploration.\n",
    "\n",
    "\n",
    "\n",
    ">**Rubric Tip**: Use the \"Question-Visualization-Observations\" framework  throughout the exploration. This framework involves **asking a question from the data, creating a visualization to find answers, and then recording observations after each visualisation.** \n"
   ]
  },
  {
   "cell_type": "markdown",
   "metadata": {},
   "source": [
    "### Method\n",
    "\n",
    "   * ask a question\n",
    "      * state what will be done to answer the question\n",
    "   * code\n",
    "      * do what was stated\n",
    "   * findings\n",
    "   * visualisation\n"
   ]
  },
  {
   "cell_type": "markdown",
   "metadata": {},
   "source": [
    "### Question #1\n",
    "\n",
    "#### What is the average amount borrowed?\n",
    "\n",
    "* QED: find the mean of `LoanOriginalAmount`\n",
    "* will look at the quartiles and std dev too"
   ]
  },
  {
   "cell_type": "code",
   "execution_count": 25,
   "metadata": {},
   "outputs": [
    {
     "data": {
      "text/plain": [
       "count    113937.00000\n",
       "mean       8337.01385\n",
       "std        6245.80058\n",
       "min        1000.00000\n",
       "25%        4000.00000\n",
       "50%        6500.00000\n",
       "75%       12000.00000\n",
       "max       35000.00000\n",
       "Name: LoanOriginalAmount, dtype: float64"
      ]
     },
     "execution_count": 25,
     "metadata": {},
     "output_type": "execute_result"
    }
   ],
   "source": [
    "df.LoanOriginalAmount.describe()"
   ]
  },
  {
   "cell_type": "markdown",
   "metadata": {},
   "source": [
    "#### Findings\n",
    "\n",
    "* average amount borrowed is _c._ USD 8,337.00\n",
    "* loans of anount USD 5,000.00, 10,000.00, 15,000.00, 20,000.00 and 25,000.00 have higher-than-average frequency\n",
    "* the range is USD 1,000.00 to 35,000.00\n",
    "    * [Prosper's website](https://www.prosper.com/about) says USD 2,000.00 to 40,000.00\n",
    "    * this could be, among others:\n",
    "        * `Prosper` could have revised its loan policy\n",
    "        * `Prosper` could have increased its product offering\n",
    "* the CV is _c._ 0.75 (6245.80058/8337.01385); this suggests that majority of the observations are close to the mean\n",
    "    * majority of the amounts are in the range USD 1,000.00 to 15,000.00\n",
    "* the mean is greater than the median (50%); this suggests a skew to the right\n",
    "\n",
    "\n",
    "a histogram of the above..."
   ]
  },
  {
   "cell_type": "code",
   "execution_count": 21,
   "metadata": {},
   "outputs": [
    {
     "data": {
      "image/png": "[encoded data removed]",
      "text/plain": [
       "<matplotlib.figure.Figure at 0x7f781f9b3240>"
      ]
     },
     "metadata": {
      "needs_background": "light"
     },
     "output_type": "display_data"
    }
   ],
   "source": [
    "#create a hist\n",
    "create_fig('Amount borrowed (USD)','Frequency (Count)','Frequency distribution of amount(s) borrowed')\n",
    "plt.hist(df.LoanOriginalAmount, bins=50);"
   ]
  },
  {
   "cell_type": "markdown",
   "metadata": {},
   "source": [
    "### Question #2\n",
    "\n",
    "#### What is the average rate of borrowing?\n",
    "\n",
    "* find the mean of `BorrowerRate`\n",
    "* look at quartile and std dev too"
   ]
  },
  {
   "cell_type": "code",
   "execution_count": 13,
   "metadata": {},
   "outputs": [
    {
     "data": {
      "text/plain": [
       "count    113937.000000\n",
       "mean          0.192764\n",
       "std           0.074818\n",
       "min           0.000000\n",
       "25%           0.134000\n",
       "50%           0.184000\n",
       "75%           0.250000\n",
       "max           0.497500\n",
       "Name: BorrowerRate, dtype: float64"
      ]
     },
     "execution_count": 13,
     "metadata": {},
     "output_type": "execute_result"
    }
   ],
   "source": [
    "df.BorrowerRate.describe()"
   ]
  },
  {
   "cell_type": "markdown",
   "metadata": {},
   "source": [
    "#### Findings\n",
    "\n",
    "* average rate is _c._ 0.19%\n",
    "* the range is zero to 0.5%\n",
    "    * does `Prosper` offer interest-free loans?\n",
    "    * if yes:\n",
    "        * who do they lend to at that rate?\n",
    "        * why?\n",
    "        * what are the pre-requisites and terms?\n",
    "* the CV is _c._ 0.39 (0.074818/0.192764); this suggests that observations are more or less evenly distributed around the mean\n",
    "    * there are, however, rates that have higher-than-average frquency at the range 0.08% to 0.35%\n",
    "* the mean is slightly greater than the median (50%); this suggests a slight skew to the right\n",
    "\n",
    "\n",
    "a histogram of the above supports the findings..."
   ]
  },
  {
   "cell_type": "code",
   "execution_count": 10,
   "metadata": {},
   "outputs": [
    {
     "data": {
      "image/png": "[encoded data removed]",
      "text/plain": [
       "<matplotlib.figure.Figure at 0x7f1c59626da0>"
      ]
     },
     "metadata": {
      "needs_background": "light"
     },
     "output_type": "display_data"
    }
   ],
   "source": [
    "#create hist\n",
    "create_fig('Rate(s) of borrowing (%)', 'Frequency (Count)', 'Frequency distribution of borrower rates')\n",
    "plt.hist(df.BorrowerRate, bins=100);"
   ]
  },
  {
   "cell_type": "markdown",
   "metadata": {},
   "source": [
    "### Question #3\n",
    "\n",
    "#### How does the number of loans disbursed behave over the years?\n",
    "\n",
    "* plot ` ` against ` `"
   ]
  },
  {
   "cell_type": "code",
   "execution_count": null,
   "metadata": {},
   "outputs": [],
   "source": [
    "#number of loans disbursed\n",
    "y =\n",
    "\n",
    "#time (years)\n",
    "x = [df.LoanOriginationDate[i].year for i in range(len(df.LoanOriginationDate))]\n",
    "\n",
    "\n",
    "#create plot\n",
    "create_fig('Time (Years)', 'Loans disbursed (count)', 'Number of loans disbursed YoY')\n",
    "plt.bar(x, y)"
   ]
  },
  {
   "cell_type": "code",
   "execution_count": null,
   "metadata": {},
   "outputs": [],
   "source": []
  },
  {
   "cell_type": "code",
   "execution_count": null,
   "metadata": {},
   "outputs": [],
   "source": []
  },
  {
   "cell_type": "code",
   "execution_count": null,
   "metadata": {},
   "outputs": [],
   "source": []
  },
  {
   "cell_type": "code",
   "execution_count": null,
   "metadata": {},
   "outputs": [],
   "source": []
  },
  {
   "cell_type": "markdown",
   "metadata": {},
   "source": [
    "\n",
    "\n",
    ">**Rubric Tip**: Visualizations should depict the data appropriately so that the plots are easily interpretable. You should choose an appropriate plot type, data encodings, and formatting as needed. The formatting may include setting/adding the title, labels, legend, and comments. Also, do not overplot or incorrectly plot ordinal data."
   ]
  },
  {
   "cell_type": "code",
   "execution_count": null,
   "metadata": {},
   "outputs": [],
   "source": []
  },
  {
   "cell_type": "markdown",
   "metadata": {},
   "source": [
    "### Discuss the distribution(s) of your variable(s) of interest. Were there any unusual points? Did you need to perform any transformations?\n",
    "\n",
    "> Your answer here!\n",
    "\n",
    "### Of the features you investigated, were there any unusual distributions? Did you perform any operations on the data to tidy, adjust, or change the form of the data? If so, why did you do this?\n",
    "\n",
    "> Your answer here!"
   ]
  },
  {
   "cell_type": "markdown",
   "metadata": {},
   "source": [
    "<div id=\"bivar\"></div>\n",
    "\n",
    "## Bivariate Exploration\n",
    "\n",
    "> In this section, investigate relationships between pairs of variables in your\n",
    "data. Make sure the variables that you cover here have been introduced in some\n",
    "fashion in the previous section (univariate exploration)."
   ]
  },
  {
   "cell_type": "code",
   "execution_count": null,
   "metadata": {},
   "outputs": [],
   "source": []
  },
  {
   "cell_type": "markdown",
   "metadata": {},
   "source": [
    "### Talk about some of the relationships you observed in this part of the investigation. How did the feature(s) of interest vary with other features in the dataset?\n",
    "\n",
    "> Your answer here!\n",
    "\n",
    "### Did you observe any interesting relationships between the other features (not the main feature(s) of interest)?\n",
    "\n",
    "> Your answer here!"
   ]
  },
  {
   "cell_type": "markdown",
   "metadata": {},
   "source": [
    "<div id=\"multivar\"></div>\n",
    "\n",
    "## Multivariate Exploration\n",
    "\n",
    "> Create plots of three or more variables to investigate your data even\n",
    "further. Make sure that your investigations are justified, and follow from\n",
    "your work in the previous sections."
   ]
  },
  {
   "cell_type": "code",
   "execution_count": null,
   "metadata": {},
   "outputs": [],
   "source": []
  },
  {
   "cell_type": "markdown",
   "metadata": {},
   "source": [
    "### Talk about some of the relationships you observed in this part of the investigation. Were there features that strengthened each other in terms of looking at your feature(s) of interest?\n",
    "\n",
    "> Your answer here!\n",
    "\n",
    "### Were there any interesting or surprising interactions between features?\n",
    "\n",
    "> Your answer here!"
   ]
  },
  {
   "cell_type": "markdown",
   "metadata": {},
   "source": [
    "<div id=\"summary\"></div>\n",
    "\n",
    "## Summary of Findings"
   ]
  },
  {
   "cell_type": "markdown",
   "metadata": {},
   "source": [
    "<div id=\"outro\"></div>\n",
    "\n",
    "## Conclusions\n",
    ">You can write a summary of the main findings and reflect on the steps taken during the data exploration.\n"
   ]
  },
  {
   "cell_type": "markdown",
   "metadata": {},
   "source": [
    "\n",
    "> Remove all Tips mentioned above, before you convert this notebook to PDF/HTML\n",
    "\n",
    "\n",
    "> At the end of your report, make sure that you export the notebook as an\n",
    "html file from the `File > Download as... > HTML or PDF` menu. Make sure you keep\n",
    "track of where the exported file goes, so you can put it in the same folder\n",
    "as this notebook for project submission. Also, make sure you remove all of\n",
    "the quote-formatted guide notes like this one before you finish your report!\n",
    "\n"
   ]
  },
  {
   "cell_type": "code",
   "execution_count": null,
   "metadata": {},
   "outputs": [],
   "source": []
  }
 ],
 "metadata": {
  "kernelspec": {
   "display_name": "Python 3",
   "language": "python",
   "name": "python3"
  },
  "language_info": {
   "codemirror_mode": {
    "name": "ipython",
    "version": 3
   },
   "file_extension": ".py",
   "mimetype": "text/x-python",
   "name": "python",
   "nbconvert_exporter": "python",
   "pygments_lexer": "ipython3",
   "version": "3.6.3"
  }
 },
 "nbformat": 4,
 "nbformat_minor": 2
}
