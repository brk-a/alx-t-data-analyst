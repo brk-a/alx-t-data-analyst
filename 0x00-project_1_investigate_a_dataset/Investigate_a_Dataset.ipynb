{
 "cells": [
  {
   "cell_type": "markdown",
   "metadata": {},
   "source": [
    "> **Tip**: Welcome to the Investigate a Dataset project! You will find tips in quoted sections like this to help organize your approach to your investigation. Once you complete this project, remove these **Tip** sections from your report before submission. First things first, you might want to double-click this Markdown cell and change the title so that it reflects your dataset and investigation.\n",
    "\n",
    "# Project: Investigate a Dataset - tmdb_movies.csv\n",
    "\n",
    "## Table of Contents\n",
    "<ul>\n",
    "<li><a href=\"#intro\">Introduction</a></li>\n",
    "<li><a href=\"#wrangling\">Data Wrangling</a></li>\n",
    "<li><a href=\"#eda\">Exploratory Data Analysis</a></li>\n",
    "<li><a href=\"#conclusions\">Conclusions</a></li>\n",
    "</ul>"
   ]
  },
  {
   "cell_type": "markdown",
   "metadata": {},
   "source": [
    "<a id='intro'></a>\n",
    "## Introduction\n",
    "\n",
    "### Dataset Description \n",
    "\n",
    "> **Tip**: In this section of the report, provide a brief introduction to the dataset you've selected/downloaded for analysis. Read through the description available on the homepage-links present [here](https://docs.google.com/document/d/e/2PACX-1vTlVmknRRnfy_4eTrjw5hYGaiQim5ctr9naaRd4V9du2B5bxpd8FEH3KtDgp8qVekw7Cj1GLk1IXdZi/pub?embedded=True). List all column names in each table, and their significance. In case of multiple tables, describe the relationship between tables. \n",
    "\n",
    "\n",
    "### Question(s) for Analysis\n",
    ">**Tip**: Clearly state one or more questions that you plan on exploring over the course of the report. You will address these questions in the **data analysis** and **conclusion** sections. Try to build your report around the analysis of at least one dependent variable and three independent variables. If you're not sure what questions to ask, then make sure you familiarize yourself with the dataset, its variables and the dataset context for ideas of what to explore.\n",
    "\n",
    "> **Tip**: Once you start coding, use NumPy arrays, Pandas Series, and DataFrames where appropriate rather than Python lists and dictionaries. Also, **use good coding practices**, such as, define and use functions to avoid repetitive code. Use appropriate comments within the code cells, explanation in the mark-down cells, and meaningful variable names. "
   ]
  },
  {
   "cell_type": "code",
   "execution_count": 1,
   "metadata": {},
   "outputs": [],
   "source": [
    "# Use this cell to set up import statements for all of the packages that you\n",
    "#   plan to use.\n",
    "import pandas as pd\n",
    "import matplotlib.pyplot as plt\n",
    "import seaborn as sns\n",
    "\n",
    "# Remember to include a 'magic word' so that your visualizations are plotted\n",
    "#   inline with the notebook. See this page for more:\n",
    "#   http://ipython.readthedocs.io/en/stable/interactive/magics.html\n",
    "%matplotlib inline"
   ]
  },
  {
   "cell_type": "code",
   "execution_count": null,
   "metadata": {},
   "outputs": [],
   "source": [
    "# Upgrade pandas to use dataframe.explode() function.\n",
    "## removed ` =0.25.0` to get the latest version of pandas\n",
    "##  because `df.head()` throws an error otherwise \n",
    "!pip install --upgrade pandas"
   ]
  },
  {
   "cell_type": "markdown",
   "metadata": {},
   "source": [
    "<a id='wrangling'></a>\n",
    "## Data Wrangling\n",
    "\n",
    "> **Tip**: In this section of the report, you will load in the data, check for cleanliness, and then trim and clean your dataset for analysis. Make sure that you **document your data cleaning steps in mark-down cells precisely and justify your cleaning decisions.**\n",
    "\n",
    "\n",
    "### General Properties\n",
    "> **Tip**: You should _not_ perform too many operations in each cell. Create cells freely to explore your data. One option that you can take with this project is to do a lot of explorations in an initial notebook. These don't have to be organized, but make sure you use enough comments to understand the purpose of each code cell. Then, after you're done with your analysis, create a duplicate notebook where you will trim the excess and organize your steps so that you have a flowing, cohesive report."
   ]
  },
  {
   "cell_type": "code",
   "execution_count": 18,
   "metadata": {},
   "outputs": [
    {
     "data": {
      "text/plain": [
       "pandas.core.frame.DataFrame"
      ]
     },
     "execution_count": 18,
     "metadata": {},
     "output_type": "execute_result"
    }
   ],
   "source": [
    "# Load your data and print out a few lines. Perform operations to inspect data\n",
    "#   types and look for instances of missing or possibly errant data.\n",
    "# pd.options.display.max_rows = 9999\n",
    "df = pd.read_csv('Database_TMDb_movie_data/tmdb-movies.csv', sep=',')\n",
    "# print(df.head)\n",
    "df.head()\n",
    "# type(df)"
   ]
  },
  {
   "cell_type": "markdown",
   "metadata": {},
   "source": [
    "\n",
    "### Data Cleaning\n",
    "> **Tip**: Make sure that you keep your reader informed on the steps that you are taking in your investigation. Follow every code cell, or every set of related code cells, with a markdown cell to describe to the reader what was found in the preceding cell(s). Try to make it so that the reader can then understand what they will be seeing in the following cell(s).\n",
    " "
   ]
  },
  {
   "cell_type": "code",
   "execution_count": 4,
   "metadata": {},
   "outputs": [
    {
     "data": {
      "text/plain": [
       "(10866, 21)"
      ]
     },
     "execution_count": 4,
     "metadata": {},
     "output_type": "execute_result"
    }
   ],
   "source": [
    "df.shape"
   ]
  },
  {
   "cell_type": "code",
   "execution_count": 5,
   "metadata": {
    "scrolled": true
   },
   "outputs": [
    {
     "name": "stdout",
     "output_type": "stream",
     "text": [
      "<class 'pandas.core.frame.DataFrame'>\n",
      "RangeIndex: 10866 entries, 0 to 10865\n",
      "Data columns (total 21 columns):\n",
      "id                      10866 non-null int64\n",
      "imdb_id                 10856 non-null object\n",
      "popularity              10866 non-null float64\n",
      "budget                  10866 non-null int64\n",
      "revenue                 10866 non-null int64\n",
      "original_title          10866 non-null object\n",
      "cast                    10790 non-null object\n",
      "homepage                2936 non-null object\n",
      "director                10822 non-null object\n",
      "tagline                 8042 non-null object\n",
      "keywords                9373 non-null object\n",
      "overview                10862 non-null object\n",
      "runtime                 10866 non-null int64\n",
      "genres                  10843 non-null object\n",
      "production_companies    9836 non-null object\n",
      "release_date            10866 non-null object\n",
      "vote_count              10866 non-null int64\n",
      "vote_average            10866 non-null float64\n",
      "release_year            10866 non-null int64\n",
      "budget_adj              10866 non-null float64\n",
      "revenue_adj             10866 non-null float64\n",
      "dtypes: float64(4), int64(6), object(11)\n",
      "memory usage: 1.7+ MB\n"
     ]
    }
   ],
   "source": [
    "df.info()"
   ]
  },
  {
   "cell_type": "code",
   "execution_count": 9,
   "metadata": {},
   "outputs": [
    {
     "data": {
      "text/plain": [
       "False    10865\n",
       "True         1\n",
       "dtype: int64"
      ]
     },
     "execution_count": 9,
     "metadata": {},
     "output_type": "execute_result"
    }
   ],
   "source": [
    "df.duplicated().value_counts()"
   ]
  },
  {
   "cell_type": "markdown",
   "metadata": {},
   "source": [
    "# Structure\n",
    "* 10866 observations\n",
    "* 21 variables:\n",
    "    * 11 are object\n",
    "    * 6 are int\n",
    "    * 4 are float\n",
    "* Two unique IDs for each observation:\n",
    "    * `id`\n",
    "    * `imdb_id`\n",
    "    * any one will suffice in this analysis\n",
    "* `budget` and `revenue`:\n",
    "    * `budget` and `revenue` are in units of money in the year of production\n",
    "    * `budget_adj` and `revenue_adj` are, simply, real (inflation-adjusted) `budget` and `revenue` respectively\n",
    "* `release_date` is in ***M/D/YY*** format\n",
    "\n",
    "# Missing and null values\n",
    "* Observations have missing values\n",
    "* Case(s) in point\n",
    "    * 7930 missing values in the `homepage` variable\n",
    "    * 76 missing values in the `cast` variable\n",
    "    \n",
    "# Multiple values for a variable\n",
    "* Variables `cast`, `genre` and `production_companies` use the pipe symbol, `|`, as a seperator\n",
    "\n",
    "# Duplicate observations\n",
    "* 1 duplicate observation\n",
    "    * will investigate and drop if appropriate "
   ]
  },
  {
   "cell_type": "markdown",
   "metadata": {},
   "source": [
    "# Cleaning\n",
    "\n",
    "* Drop `homepage` and `imdb_id`\n",
    "    * `homepage` contains URLs; these will not be used in this analysis\n",
    "    * `imdb_id` and `id` serve the same purpose in this analysis. `id` suffices\n",
    "            \n",
    "* See if the the number of missing values of the remaining variables is significant enough to drop\n",
    "    * find the number of missing values per variable\n",
    "    * find the proportion of said missing values per variable  to the total\n",
    "    * if proportion exceeds a threshold, fill missing with median, else, drop observation\n",
    "\n",
    "* Make data types of variables consistent\n",
    "    * change the following to `int`:\n",
    "         * `revenue_adj`\n",
    "         * `budget_adj`\n",
    "         * `popularity`\n",
    "         * `vote_average`"
   ]
  },
  {
   "cell_type": "code",
   "execution_count": 10,
   "metadata": {},
   "outputs": [],
   "source": [
    "# After discussing the structure of the data and any problems that need to be\n",
    "#   cleaned, perform those cleaning steps in the second part of this section.\n",
    "df.drop(['homepage', 'imdb_id'], axis=1, inplace=True)"
   ]
  },
  {
   "cell_type": "code",
   "execution_count": 11,
   "metadata": {},
   "outputs": [],
   "source": [
    "#list of columns\n",
    "variables = list(df.columns)"
   ]
  },
  {
   "cell_type": "code",
   "execution_count": 12,
   "metadata": {},
   "outputs": [],
   "source": [
    "#list containing the number of missing values per variable\n",
    "num_missing = list(df.isnull().sum())"
   ]
  },
  {
   "cell_type": "code",
   "execution_count": 13,
   "metadata": {},
   "outputs": [],
   "source": [
    "#use a dict comp to see `variables` and `num_missing` together\n",
    "missing_values = {k:v for (k,v) in zip(variables, num_missing)}"
   ]
  },
  {
   "cell_type": "code",
   "execution_count": 14,
   "metadata": {},
   "outputs": [],
   "source": [
    "#list containing proportion of missing values to total on a per variable basis\n",
    "# 4 dp, percent\n",
    "missing_proportion = [f'{i/10866:0.4f}%' for i in num_missing]"
   ]
  },
  {
   "cell_type": "code",
   "execution_count": 15,
   "metadata": {},
   "outputs": [],
   "source": [
    "#see the proportions per variable\n",
    "missing_val_proportions = {k:v for (k,v) in zip(variables, missing_proportion)}\n"
   ]
  },
  {
   "cell_type": "markdown",
   "metadata": {},
   "source": [
    "## An overwhelming majority of variables have little to no missing values\n",
    "\n",
    "### To fill\n",
    "* All variables:\n",
    "    * with missing values\n",
    "    * whose proportion of missing values is 0.0000%\n",
    "    * whose values are not categorical\n",
    "\n",
    "### To drop\n",
    "* `cast`. I can easily find these online, however, that is outside the scope of this project\n",
    "* `director`. I can easily find these online, however, that is outside the scope of this project\n",
    "* `tagline`. The proportion is too high to fill meaningfully because `tagline` is a [qualitative variable](https://www.statisticshowto.com/qualitative-variable/)\n",
    "* `keywords`. I can easily find these online, however, that is outside the scope of this project\n",
    "* `overview`. I can easily find these online, however, that is outside the scope of this project\n",
    "* `genres`. I can easily find these online, however, that is outside the scope of this project\n",
    "* `production_companies`. I can easily find these online, however, that is outside the scope of this project\n"
   ]
  },
  {
   "cell_type": "code",
   "execution_count": 16,
   "metadata": {},
   "outputs": [
    {
     "name": "stdout",
     "output_type": "stream",
     "text": [
      "<class 'pandas.core.frame.DataFrame'>\n",
      "Int64Index: 7032 entries, 0 to 10865\n",
      "Data columns (total 19 columns):\n",
      "id                      7032 non-null int64\n",
      "popularity              7032 non-null float64\n",
      "budget                  7032 non-null int64\n",
      "revenue                 7032 non-null int64\n",
      "original_title          7032 non-null object\n",
      "cast                    7032 non-null object\n",
      "director                7032 non-null object\n",
      "tagline                 7032 non-null object\n",
      "keywords                7032 non-null object\n",
      "overview                7032 non-null object\n",
      "runtime                 7032 non-null int64\n",
      "genres                  7032 non-null object\n",
      "production_companies    7032 non-null object\n",
      "release_date            7032 non-null object\n",
      "vote_count              7032 non-null int64\n",
      "vote_average            7032 non-null float64\n",
      "release_year            7032 non-null int64\n",
      "budget_adj              7032 non-null float64\n",
      "revenue_adj             7032 non-null float64\n",
      "dtypes: float64(4), int64(6), object(9)\n",
      "memory usage: 1.1+ MB\n"
     ]
    }
   ],
   "source": [
    "#drop values from variables discussed above\n",
    "to_drop_list = [i for i in variables if missing_val_proportions[i] != '0.0000%']\n",
    "df.dropna(axis='index', subset=to_drop_list, inplace=True)\n",
    "df.info() #7032 obs, 19 variables"
   ]
  },
  {
   "cell_type": "code",
   "execution_count": 19,
   "metadata": {},
   "outputs": [],
   "source": [
    "'''\n",
    "Function to drop observations in data set\n",
    "\n",
    "Takes in 1 arg: the data set\n",
    "\n",
    "Data set must be a pandas dataframe\n",
    "\n",
    "returns a clean dataset if successful, else, none\n",
    "'''\n",
    "\n",
    "def drop_rows(df):\n",
    "    \"\"\"function drop_rows\"\"\"\n",
    "    df = df if df and type(df) == pandas.core.frame.DataFrame else None\n",
    "    variables = list(df.columns)\n",
    "    if df:\n",
    "        try:\n",
    "            try:\n",
    "                df.drop(['homepage', 'imdb_id'], axis=1, inplace=True)\n",
    "            except:\n",
    "                print(f'Failed to drop rows associated with selected columns')\n",
    "            try:\n",
    "                num_missing = list(df.isnull().sum())\n",
    "                missing_values = {k:v for (k,v) in zip(variables, num_missing)}           \n",
    "                missing_proportion = [f'{i/10866:0.4f}%' for i in num_missing]\n",
    "                missing_val_proportions = {k:v for (k,v) in zip(variables, missing_proportion)}\n",
    "                to_drop_list = [i for i in variables if missing_val_proportions[i] != '0.0000%']\n",
    "                df.dropna(axis='index', subset=to_drop_list, inplace=True)\n",
    "                df.info()\n",
    "            except:\n",
    "                print(f'Failed to drop null values')\n",
    "        except:\n",
    "            print(f'Drop operation failed')"
   ]
  },
  {
   "cell_type": "code",
   "execution_count": null,
   "metadata": {},
   "outputs": [],
   "source": []
  },
  {
   "cell_type": "code",
   "execution_count": null,
   "metadata": {},
   "outputs": [],
   "source": []
  },
  {
   "cell_type": "code",
   "execution_count": null,
   "metadata": {},
   "outputs": [],
   "source": []
  },
  {
   "cell_type": "code",
   "execution_count": null,
   "metadata": {},
   "outputs": [],
   "source": []
  },
  {
   "cell_type": "code",
   "execution_count": null,
   "metadata": {},
   "outputs": [],
   "source": []
  },
  {
   "cell_type": "markdown",
   "metadata": {},
   "source": [
    "<a id='eda'></a>\n",
    "## Exploratory Data Analysis\n",
    "\n",
    "> **Tip**: Now that you've trimmed and cleaned your data, you're ready to move on to exploration. **Compute statistics** and **create visualizations** with the goal of addressing the research questions that you posed in the Introduction section. You should compute the relevant statistics throughout the analysis when an inference is made about the data. Note that at least two or more kinds of plots should be created as part of the exploration, and you must  compare and show trends in the varied visualizations. \n",
    "\n",
    "\n",
    "\n",
    "> **Tip**: - Investigate the stated question(s) from multiple angles. It is recommended that you be systematic with your approach. Look at one variable at a time, and then follow it up by looking at relationships between variables. You should explore at least three variables in relation to the primary question. This can be an exploratory relationship between three variables of interest, or looking at how two independent variables relate to a single dependent variable of interest. Lastly, you  should perform both single-variable (1d) and multiple-variable (2d) explorations.\n",
    "\n",
    "\n"
   ]
  },
  {
   "cell_type": "markdown",
   "metadata": {},
   "source": [
    "### Research Question 1\n",
    "\n",
    "* Which combination of genres are most popular?"
   ]
  },
  {
   "cell_type": "code",
   "execution_count": null,
   "metadata": {},
   "outputs": [],
   "source": [
    "# Use this, and more code cells, to explore your data. Don't forget to add\n",
    "#   Markdown cells to document your observations and findings.\n"
   ]
  },
  {
   "cell_type": "code",
   "execution_count": 34,
   "metadata": {},
   "outputs": [
    {
     "data": {
      "text/plain": [
       "genres\n",
       "Action                                                 2331375459\n",
       "Action|Adventure                                        484253103\n",
       "Action|Adventure|Animation                                      0\n",
       "Action|Adventure|Animation|Comedy|Drama                  16627188\n",
       "Action|Adventure|Animation|Comedy|Family                        0\n",
       "Action|Adventure|Animation|Drama|Family                         0\n",
       "Action|Adventure|Animation|Family                               0\n",
       "Action|Adventure|Animation|Family|Fantasy               554987477\n",
       "Action|Adventure|Animation|Family|Mystery                       0\n",
       "Action|Adventure|Animation|Family|Science Fiction       631442092\n",
       "Action|Adventure|Animation|Fantasy                              0\n",
       "Action|Adventure|Animation|Fantasy|Horror                       0\n",
       "Action|Adventure|Animation|Fantasy|Science Fiction              0\n",
       "Action|Adventure|Animation|Science Fiction                5231128\n",
       "Action|Adventure|Animation|Science Fiction|Crime                0\n",
       "Action|Adventure|Animation|Science Fiction|Thriller      48428063\n",
       "Action|Adventure|Comedy                                1328287008\n",
       "Action|Adventure|Comedy|Crime                           379465596\n",
       "Action|Adventure|Comedy|Crime|Drama                     305701578\n",
       "Action|Adventure|Comedy|Crime|Foreign                           0\n",
       "Action|Adventure|Comedy|Crime|Romance                           0\n",
       "Action|Adventure|Comedy|Crime|Thriller                  595612056\n",
       "Action|Adventure|Comedy|Drama                            65874930\n",
       "Action|Adventure|Comedy|Drama|Family                     61141030\n",
       "Action|Adventure|Comedy|Drama|Mystery                   119269486\n",
       "Action|Adventure|Comedy|Drama|Romance                           0\n",
       "Action|Adventure|Comedy|Drama|Science Fiction           222479424\n",
       "Action|Adventure|Comedy|Drama|Thriller                   14134877\n",
       "Action|Adventure|Comedy|Drama|War                         5200000\n",
       "Action|Adventure|Comedy|Drama|Western                   139274226\n",
       "                                                          ...    \n",
       "War|Drama|Action                                        211817906\n",
       "War|Drama|Action|Adventure|History                              0\n",
       "War|Drama|Foreign|History                                       0\n",
       "War|Drama|History                                       125600540\n",
       "War|Drama|History|Action                                154984035\n",
       "War|Drama|History|Action|Romance                                0\n",
       "War|Drama|History|Thriller                                      0\n",
       "War|Drama|Mystery|Romance                                       0\n",
       "War|Drama|Romance                                        10278575\n",
       "War|History                                                     0\n",
       "War|History|Action|Adventure|Drama                      167298192\n",
       "Western                                                 337671960\n",
       "Western|Action                                            4300000\n",
       "Western|Action|Adventure                                        0\n",
       "Western|Action|Adventure|Drama                           50000000\n",
       "Western|Action|Comedy                                           0\n",
       "Western|Action|Drama|Science Fiction                            0\n",
       "Western|Adventure                                       108103450\n",
       "Western|Animation|Adventure|Comedy|Family               122563539\n",
       "Western|Animation|Family|Comedy|Music                   103951461\n",
       "Western|Comedy                                                  0\n",
       "Western|Comedy|Drama|Music                                      0\n",
       "Western|Drama                                             3626296\n",
       "Western|Drama|Adventure|Thriller                        532950503\n",
       "Western|Drama|Comedy|Romance                                    0\n",
       "Western|Drama|Crime|Romance                               1031243\n",
       "Western|History                                          15795189\n",
       "Western|History|War                                      25819961\n",
       "Western|Horror|Thriller                                         0\n",
       "Western|Thriller                                             6147\n",
       "Name: revenue, Length: 2039, dtype: int64"
      ]
     },
     "execution_count": 34,
     "metadata": {},
     "output_type": "execute_result"
    }
   ],
   "source": [
    "popular = df.groupby('genres')['revenue'].sum()\n",
    "popular"
   ]
  },
  {
   "cell_type": "code",
   "execution_count": null,
   "metadata": {},
   "outputs": [],
   "source": []
  },
  {
   "cell_type": "code",
   "execution_count": null,
   "metadata": {},
   "outputs": [],
   "source": []
  },
  {
   "cell_type": "code",
   "execution_count": null,
   "metadata": {},
   "outputs": [],
   "source": []
  },
  {
   "cell_type": "code",
   "execution_count": null,
   "metadata": {},
   "outputs": [],
   "source": []
  },
  {
   "cell_type": "code",
   "execution_count": null,
   "metadata": {},
   "outputs": [],
   "source": []
  },
  {
   "cell_type": "code",
   "execution_count": null,
   "metadata": {},
   "outputs": [],
   "source": []
  },
  {
   "cell_type": "markdown",
   "metadata": {},
   "source": [
    "### Research Question 2 \n",
    "* What properties are associated with movies that have high revenue?\n",
    "    * Does the season of the year in which a movie is released affect revenue?\n",
    "    * How does popularity correlate with revenue?\n",
    "    * Do movies from a particular director perform better in revenue terms?\n",
    "    * Is there a year that is particularly good from a revenue perspective?"
   ]
  },
  {
   "cell_type": "code",
   "execution_count": null,
   "metadata": {},
   "outputs": [],
   "source": [
    "# Continue to explore the data to address your additional research\n",
    "#   questions. Add more headers as needed if you have more questions to\n",
    "#   investigate.\n"
   ]
  },
  {
   "cell_type": "code",
   "execution_count": null,
   "metadata": {},
   "outputs": [],
   "source": []
  },
  {
   "cell_type": "code",
   "execution_count": null,
   "metadata": {},
   "outputs": [],
   "source": []
  },
  {
   "cell_type": "code",
   "execution_count": null,
   "metadata": {},
   "outputs": [],
   "source": []
  },
  {
   "cell_type": "code",
   "execution_count": null,
   "metadata": {},
   "outputs": [],
   "source": []
  },
  {
   "cell_type": "code",
   "execution_count": null,
   "metadata": {},
   "outputs": [],
   "source": []
  },
  {
   "cell_type": "markdown",
   "metadata": {},
   "source": [
    "<a id='conclusions'></a>\n",
    "## Conclusions\n",
    "\n",
    "> **Tip**: Finally, summarize your findings and the results that have been performed in relation to the question(s) provided at the beginning of the analysis. Summarize the results accurately, and point out where additional research can be done or where additional information could be useful.\n",
    "\n",
    "> **Tip**: Make sure that you are clear with regards to the limitations of your exploration. You should have at least 1 limitation explained clearly. \n",
    "\n",
    "> **Tip**: If you haven't done any statistical tests, do not imply any statistical conclusions. And make sure you avoid implying causation from correlation!\n",
    "\n",
    "> **Tip**: Once you are satisfied with your work here, check over your report to make sure that it is satisfies all the areas of the rubric (found on the project submission page at the end of the lesson). You should also probably remove all of the \"Tips\" like this one so that the presentation is as polished as possible.\n",
    "\n",
    "## Submitting your Project \n",
    "\n",
    "> **Tip**: Before you submit your project, you need to create a .html or .pdf version of this notebook in the workspace here. To do that, run the code cell below. If it worked correctly, you should get a return code of 0, and you should see the generated .html file in the workspace directory (click on the orange Jupyter icon in the upper left).\n",
    "\n",
    "> **Tip**: Alternatively, you can download this report as .html via the **File** > **Download as** submenu, and then manually upload it into the workspace directory by clicking on the orange Jupyter icon in the upper left, then using the Upload button.\n",
    "\n",
    "> **Tip**: Once you've done this, you can submit your project by clicking on the \"Submit Project\" button in the lower right here. This will create and submit a zip file with this .ipynb doc and the .html or .pdf version you created. Congratulations!"
   ]
  },
  {
   "cell_type": "code",
   "execution_count": null,
   "metadata": {},
   "outputs": [],
   "source": [
    "from subprocess import call\n",
    "call(['python', '-m', 'nbconvert', 'Investigate_a_Dataset.ipynb'])"
   ]
  }
 ],
 "metadata": {
  "kernelspec": {
   "display_name": "Python 3",
   "language": "python",
   "name": "python3"
  },
  "language_info": {
   "codemirror_mode": {
    "name": "ipython",
    "version": 3
   },
   "file_extension": ".py",
   "mimetype": "text/x-python",
   "name": "python",
   "nbconvert_exporter": "python",
   "pygments_lexer": "ipython3",
   "version": "3.6.3"
  }
 },
 "nbformat": 4,
 "nbformat_minor": 2
}
