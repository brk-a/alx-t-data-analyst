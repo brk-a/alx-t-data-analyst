{
 "cells": [
  {
   "cell_type": "markdown",
   "metadata": {},
   "source": [
    "\n",
    "# Project: Investigate a Dataset - tmdb_movies.csv\n",
    "\n",
    "## Table of Contents\n",
    "<ul>\n",
    "<li><a href=\"#intro\">Introduction</a></li>\n",
    "<li><a href=\"#wrangling\">Data Wrangling</a></li>\n",
    "<li><a href=\"#eda\">Exploratory Data Analysis</a></li>\n",
    "<li><a href=\"#conclusions\">Conclusions</a></li>\n",
    "</ul>"
   ]
  },
  {
   "cell_type": "code",
   "execution_count": 125,
   "metadata": {},
   "outputs": [],
   "source": [
    "# Use this cell to set up import statements for all of the packages that you\n",
    "#   plan to use.\n",
    "import pandas as pd\n",
    "import matplotlib.pyplot as plt\n",
    "\n",
    "\n",
    "# Remember to include a 'magic word' so that your visualizations are plotted\n",
    "#   inline with the notebook. See this page for more:\n",
    "#   http://ipython.readthedocs.io/en/stable/interactive/magics.html\n",
    "%matplotlib inline"
   ]
  },
  {
   "cell_type": "code",
   "execution_count": null,
   "metadata": {},
   "outputs": [],
   "source": [
    "# Upgrade pandas to use dataframe.explode() function.\n",
    "## removed ` =0.25.0` to get the latest version of pandas\n",
    "##  because `df.head()` throws an error otherwise \n",
    "!pip install --upgrade pandas"
   ]
  },
  {
   "cell_type": "markdown",
   "metadata": {},
   "source": [
    "<a id='wrangling'></a>\n",
    "## Data Wrangling\n"
   ]
  },
  {
   "cell_type": "code",
   "execution_count": 3,
   "metadata": {},
   "outputs": [
    {
     "data": {
      "text/html": [
       "<div>\n",
       "<style scoped>\n",
       "    .dataframe tbody tr th:only-of-type {\n",
       "        vertical-align: middle;\n",
       "    }\n",
       "\n",
       "    .dataframe tbody tr th {\n",
       "        vertical-align: top;\n",
       "    }\n",
       "\n",
       "    .dataframe thead th {\n",
       "        text-align: right;\n",
       "    }\n",
       "</style>\n",
       "<table border=\"1\" class=\"dataframe\">\n",
       "  <thead>\n",
       "    <tr style=\"text-align: right;\">\n",
       "      <th></th>\n",
       "      <th>id</th>\n",
       "      <th>imdb_id</th>\n",
       "      <th>popularity</th>\n",
       "      <th>budget</th>\n",
       "      <th>revenue</th>\n",
       "      <th>original_title</th>\n",
       "      <th>cast</th>\n",
       "      <th>homepage</th>\n",
       "      <th>director</th>\n",
       "      <th>tagline</th>\n",
       "      <th>...</th>\n",
       "      <th>overview</th>\n",
       "      <th>runtime</th>\n",
       "      <th>genres</th>\n",
       "      <th>production_companies</th>\n",
       "      <th>release_date</th>\n",
       "      <th>vote_count</th>\n",
       "      <th>vote_average</th>\n",
       "      <th>release_year</th>\n",
       "      <th>budget_adj</th>\n",
       "      <th>revenue_adj</th>\n",
       "    </tr>\n",
       "  </thead>\n",
       "  <tbody>\n",
       "    <tr>\n",
       "      <th>0</th>\n",
       "      <td>135397</td>\n",
       "      <td>tt0369610</td>\n",
       "      <td>32.985763</td>\n",
       "      <td>150000000</td>\n",
       "      <td>1513528810</td>\n",
       "      <td>Jurassic World</td>\n",
       "      <td>Chris Pratt|Bryce Dallas Howard|Irrfan Khan|Vi...</td>\n",
       "      <td>http://www.jurassicworld.com/</td>\n",
       "      <td>Colin Trevorrow</td>\n",
       "      <td>The park is open.</td>\n",
       "      <td>...</td>\n",
       "      <td>Twenty-two years after the events of Jurassic ...</td>\n",
       "      <td>124</td>\n",
       "      <td>Action|Adventure|Science Fiction|Thriller</td>\n",
       "      <td>Universal Studios|Amblin Entertainment|Legenda...</td>\n",
       "      <td>6/9/15</td>\n",
       "      <td>5562</td>\n",
       "      <td>6.5</td>\n",
       "      <td>2015</td>\n",
       "      <td>1.379999e+08</td>\n",
       "      <td>1.392446e+09</td>\n",
       "    </tr>\n",
       "    <tr>\n",
       "      <th>1</th>\n",
       "      <td>76341</td>\n",
       "      <td>tt1392190</td>\n",
       "      <td>28.419936</td>\n",
       "      <td>150000000</td>\n",
       "      <td>378436354</td>\n",
       "      <td>Mad Max: Fury Road</td>\n",
       "      <td>Tom Hardy|Charlize Theron|Hugh Keays-Byrne|Nic...</td>\n",
       "      <td>http://www.madmaxmovie.com/</td>\n",
       "      <td>George Miller</td>\n",
       "      <td>What a Lovely Day.</td>\n",
       "      <td>...</td>\n",
       "      <td>An apocalyptic story set in the furthest reach...</td>\n",
       "      <td>120</td>\n",
       "      <td>Action|Adventure|Science Fiction|Thriller</td>\n",
       "      <td>Village Roadshow Pictures|Kennedy Miller Produ...</td>\n",
       "      <td>5/13/15</td>\n",
       "      <td>6185</td>\n",
       "      <td>7.1</td>\n",
       "      <td>2015</td>\n",
       "      <td>1.379999e+08</td>\n",
       "      <td>3.481613e+08</td>\n",
       "    </tr>\n",
       "    <tr>\n",
       "      <th>2</th>\n",
       "      <td>262500</td>\n",
       "      <td>tt2908446</td>\n",
       "      <td>13.112507</td>\n",
       "      <td>110000000</td>\n",
       "      <td>295238201</td>\n",
       "      <td>Insurgent</td>\n",
       "      <td>Shailene Woodley|Theo James|Kate Winslet|Ansel...</td>\n",
       "      <td>http://www.thedivergentseries.movie/#insurgent</td>\n",
       "      <td>Robert Schwentke</td>\n",
       "      <td>One Choice Can Destroy You</td>\n",
       "      <td>...</td>\n",
       "      <td>Beatrice Prior must confront her inner demons ...</td>\n",
       "      <td>119</td>\n",
       "      <td>Adventure|Science Fiction|Thriller</td>\n",
       "      <td>Summit Entertainment|Mandeville Films|Red Wago...</td>\n",
       "      <td>3/18/15</td>\n",
       "      <td>2480</td>\n",
       "      <td>6.3</td>\n",
       "      <td>2015</td>\n",
       "      <td>1.012000e+08</td>\n",
       "      <td>2.716190e+08</td>\n",
       "    </tr>\n",
       "    <tr>\n",
       "      <th>3</th>\n",
       "      <td>140607</td>\n",
       "      <td>tt2488496</td>\n",
       "      <td>11.173104</td>\n",
       "      <td>200000000</td>\n",
       "      <td>2068178225</td>\n",
       "      <td>Star Wars: The Force Awakens</td>\n",
       "      <td>Harrison Ford|Mark Hamill|Carrie Fisher|Adam D...</td>\n",
       "      <td>http://www.starwars.com/films/star-wars-episod...</td>\n",
       "      <td>J.J. Abrams</td>\n",
       "      <td>Every generation has a story.</td>\n",
       "      <td>...</td>\n",
       "      <td>Thirty years after defeating the Galactic Empi...</td>\n",
       "      <td>136</td>\n",
       "      <td>Action|Adventure|Science Fiction|Fantasy</td>\n",
       "      <td>Lucasfilm|Truenorth Productions|Bad Robot</td>\n",
       "      <td>12/15/15</td>\n",
       "      <td>5292</td>\n",
       "      <td>7.5</td>\n",
       "      <td>2015</td>\n",
       "      <td>1.839999e+08</td>\n",
       "      <td>1.902723e+09</td>\n",
       "    </tr>\n",
       "    <tr>\n",
       "      <th>4</th>\n",
       "      <td>168259</td>\n",
       "      <td>tt2820852</td>\n",
       "      <td>9.335014</td>\n",
       "      <td>190000000</td>\n",
       "      <td>1506249360</td>\n",
       "      <td>Furious 7</td>\n",
       "      <td>Vin Diesel|Paul Walker|Jason Statham|Michelle ...</td>\n",
       "      <td>http://www.furious7.com/</td>\n",
       "      <td>James Wan</td>\n",
       "      <td>Vengeance Hits Home</td>\n",
       "      <td>...</td>\n",
       "      <td>Deckard Shaw seeks revenge against Dominic Tor...</td>\n",
       "      <td>137</td>\n",
       "      <td>Action|Crime|Thriller</td>\n",
       "      <td>Universal Pictures|Original Film|Media Rights ...</td>\n",
       "      <td>4/1/15</td>\n",
       "      <td>2947</td>\n",
       "      <td>7.3</td>\n",
       "      <td>2015</td>\n",
       "      <td>1.747999e+08</td>\n",
       "      <td>1.385749e+09</td>\n",
       "    </tr>\n",
       "  </tbody>\n",
       "</table>\n",
       "<p>5 rows × 21 columns</p>\n",
       "</div>"
      ],
      "text/plain": [
       "       id    imdb_id  popularity     budget     revenue  \\\n",
       "0  135397  tt0369610   32.985763  150000000  1513528810   \n",
       "1   76341  tt1392190   28.419936  150000000   378436354   \n",
       "2  262500  tt2908446   13.112507  110000000   295238201   \n",
       "3  140607  tt2488496   11.173104  200000000  2068178225   \n",
       "4  168259  tt2820852    9.335014  190000000  1506249360   \n",
       "\n",
       "                 original_title  \\\n",
       "0                Jurassic World   \n",
       "1            Mad Max: Fury Road   \n",
       "2                     Insurgent   \n",
       "3  Star Wars: The Force Awakens   \n",
       "4                     Furious 7   \n",
       "\n",
       "                                                cast  \\\n",
       "0  Chris Pratt|Bryce Dallas Howard|Irrfan Khan|Vi...   \n",
       "1  Tom Hardy|Charlize Theron|Hugh Keays-Byrne|Nic...   \n",
       "2  Shailene Woodley|Theo James|Kate Winslet|Ansel...   \n",
       "3  Harrison Ford|Mark Hamill|Carrie Fisher|Adam D...   \n",
       "4  Vin Diesel|Paul Walker|Jason Statham|Michelle ...   \n",
       "\n",
       "                                            homepage          director  \\\n",
       "0                      http://www.jurassicworld.com/   Colin Trevorrow   \n",
       "1                        http://www.madmaxmovie.com/     George Miller   \n",
       "2     http://www.thedivergentseries.movie/#insurgent  Robert Schwentke   \n",
       "3  http://www.starwars.com/films/star-wars-episod...       J.J. Abrams   \n",
       "4                           http://www.furious7.com/         James Wan   \n",
       "\n",
       "                         tagline      ...       \\\n",
       "0              The park is open.      ...        \n",
       "1             What a Lovely Day.      ...        \n",
       "2     One Choice Can Destroy You      ...        \n",
       "3  Every generation has a story.      ...        \n",
       "4            Vengeance Hits Home      ...        \n",
       "\n",
       "                                            overview runtime  \\\n",
       "0  Twenty-two years after the events of Jurassic ...     124   \n",
       "1  An apocalyptic story set in the furthest reach...     120   \n",
       "2  Beatrice Prior must confront her inner demons ...     119   \n",
       "3  Thirty years after defeating the Galactic Empi...     136   \n",
       "4  Deckard Shaw seeks revenge against Dominic Tor...     137   \n",
       "\n",
       "                                      genres  \\\n",
       "0  Action|Adventure|Science Fiction|Thriller   \n",
       "1  Action|Adventure|Science Fiction|Thriller   \n",
       "2         Adventure|Science Fiction|Thriller   \n",
       "3   Action|Adventure|Science Fiction|Fantasy   \n",
       "4                      Action|Crime|Thriller   \n",
       "\n",
       "                                production_companies release_date vote_count  \\\n",
       "0  Universal Studios|Amblin Entertainment|Legenda...       6/9/15       5562   \n",
       "1  Village Roadshow Pictures|Kennedy Miller Produ...      5/13/15       6185   \n",
       "2  Summit Entertainment|Mandeville Films|Red Wago...      3/18/15       2480   \n",
       "3          Lucasfilm|Truenorth Productions|Bad Robot     12/15/15       5292   \n",
       "4  Universal Pictures|Original Film|Media Rights ...       4/1/15       2947   \n",
       "\n",
       "   vote_average  release_year    budget_adj   revenue_adj  \n",
       "0           6.5          2015  1.379999e+08  1.392446e+09  \n",
       "1           7.1          2015  1.379999e+08  3.481613e+08  \n",
       "2           6.3          2015  1.012000e+08  2.716190e+08  \n",
       "3           7.5          2015  1.839999e+08  1.902723e+09  \n",
       "4           7.3          2015  1.747999e+08  1.385749e+09  \n",
       "\n",
       "[5 rows x 21 columns]"
      ]
     },
     "execution_count": 3,
     "metadata": {},
     "output_type": "execute_result"
    }
   ],
   "source": [
    "# Load your data and print out a few lines. Perform operations to inspect data\n",
    "#   types and look for instances of missing or possibly errant data.\n",
    "# pd.options.display.max_rows = 9999\n",
    "df = pd.read_csv('Database_TMDb_movie_data/tmdb-movies.csv', sep=',')\n",
    "# print(df.head)\n",
    "df.head()\n",
    "# type(df)"
   ]
  },
  {
   "cell_type": "markdown",
   "metadata": {},
   "source": [
    "\n",
    "### Data Cleaning\n",
    "\n",
    " "
   ]
  },
  {
   "cell_type": "code",
   "execution_count": 4,
   "metadata": {},
   "outputs": [
    {
     "data": {
      "text/plain": [
       "(10866, 21)"
      ]
     },
     "execution_count": 4,
     "metadata": {},
     "output_type": "execute_result"
    }
   ],
   "source": [
    "df.shape"
   ]
  },
  {
   "cell_type": "code",
   "execution_count": 5,
   "metadata": {
    "scrolled": true
   },
   "outputs": [
    {
     "name": "stdout",
     "output_type": "stream",
     "text": [
      "<class 'pandas.core.frame.DataFrame'>\n",
      "RangeIndex: 10866 entries, 0 to 10865\n",
      "Data columns (total 21 columns):\n",
      "id                      10866 non-null int64\n",
      "imdb_id                 10856 non-null object\n",
      "popularity              10866 non-null float64\n",
      "budget                  10866 non-null int64\n",
      "revenue                 10866 non-null int64\n",
      "original_title          10866 non-null object\n",
      "cast                    10790 non-null object\n",
      "homepage                2936 non-null object\n",
      "director                10822 non-null object\n",
      "tagline                 8042 non-null object\n",
      "keywords                9373 non-null object\n",
      "overview                10862 non-null object\n",
      "runtime                 10866 non-null int64\n",
      "genres                  10843 non-null object\n",
      "production_companies    9836 non-null object\n",
      "release_date            10866 non-null object\n",
      "vote_count              10866 non-null int64\n",
      "vote_average            10866 non-null float64\n",
      "release_year            10866 non-null int64\n",
      "budget_adj              10866 non-null float64\n",
      "revenue_adj             10866 non-null float64\n",
      "dtypes: float64(4), int64(6), object(11)\n",
      "memory usage: 1.7+ MB\n"
     ]
    }
   ],
   "source": [
    "df.info()"
   ]
  },
  {
   "cell_type": "code",
   "execution_count": 6,
   "metadata": {},
   "outputs": [
    {
     "data": {
      "text/plain": [
       "False    10865\n",
       "True         1\n",
       "dtype: int64"
      ]
     },
     "execution_count": 6,
     "metadata": {},
     "output_type": "execute_result"
    }
   ],
   "source": [
    "df.duplicated().value_counts()"
   ]
  },
  {
   "cell_type": "markdown",
   "metadata": {},
   "source": [
    "# Structure\n",
    "\n",
    "### Overall\n",
    "* 10866 observations\n",
    "* 21 variables:\n",
    "    * 11 are object\n",
    "    * 6 are int\n",
    "    * 4 are float\n",
    "* Two unique IDs for each observation:\n",
    "    * `id`\n",
    "    * `imdb_id`\n",
    "    * any one will suffice in this analysis\n",
    "* `budget` and `revenue`:\n",
    "    * `budget` and `revenue` are in units of money in the year of production\n",
    "    * `budget_adj` and `revenue_adj` are, simply, real (inflation-adjusted) `budget` and `revenue` respectively\n",
    "* `release_date` is in `string` format\n",
    "\n",
    "### Missing and null values\n",
    "* Observations have missing values\n",
    "* Case(s) in point\n",
    "    * 7930 missing values in the `homepage` variable\n",
    "    * 76 missing values in the `cast` variable\n",
    "    \n",
    "### Multiple values for a variable\n",
    "* Variables `cast`, `genre` and `production_companies` use the pipe symbol, `|`, as a seperator\n",
    "\n",
    "### Duplicate observations\n",
    "* 1 duplicate observation\n",
    "    * will investigate and drop if appropriate "
   ]
  },
  {
   "cell_type": "code",
   "execution_count": 35,
   "metadata": {},
   "outputs": [],
   "source": [
    "'''\n",
    "Function to show the properties of a dataset\n",
    "\n",
    "Takes in one arg: df, a pandas DF\n",
    "\n",
    "prints out the info, shape and #duplicates of df\n",
    "if df is a pandas DF, else, an `operation failed`\n",
    "message\n",
    "\n",
    "return: None\n",
    "'''\n",
    "\n",
    "def show_props(df):\n",
    "    \"\"\"function show_props\"\"\"\n",
    "#     df = df if df and type(df) == pandas.core.frame.DataFrame else None\n",
    "    \n",
    "    if df is not None:   \n",
    "        print(f'Info for dataset:\\n{df.info()}')\n",
    "        print(f'Shape of dataset:\\n{df.shape}')\n",
    "        print(f'Duplicates for dataset:\\n{df.duplicated().value_counts()}')\n",
    "#         print(f'Operation failed. Please ensure that your pass a pandas dataFrame to the function')\n",
    "    else:\n",
    "        print(f'Operation failed. Please ensure that your pass a pandas dataFrame to the function')\n",
    "#         print(f'Info for {df}:\\n{df.info}')\n",
    "#         print(f'Shape of {df}:\\n{df.shape}')\n",
    "#         print(f'Duplicates for {df}:\\n{df.duplicated().value_counts()}')"
   ]
  },
  {
   "cell_type": "markdown",
   "metadata": {},
   "source": [
    "# Cleaning\n",
    "\n",
    "* Drop `homepage` and `imdb_id`\n",
    "    * `homepage` contains URLs; these will not be used in this analysis\n",
    "    * `imdb_id` and `id` serve the same purpose in this analysis. `id` suffices\n",
    "            \n",
    "* See if the the number of missing values of the remaining variables is significant enough to drop\n",
    "    * find the number of missing values per variable\n",
    "    * find the proportion of said missing values per variable  to the total\n",
    "    * if proportion exceeds a threshold, fill missing with median, else, drop observation\n",
    "\n",
    "* Make data types of variables consistent\n",
    "    * change the following to `int`:\n",
    "         * `revenue_adj`\n",
    "         * `budget_adj`\n",
    "         * `popularity`\n",
    "         * `vote_average`\n",
    "\n",
    "* Convert `release_date` to `datetime` object using the `datetime` module"
   ]
  },
  {
   "cell_type": "code",
   "execution_count": 8,
   "metadata": {},
   "outputs": [],
   "source": [
    "# After discussing the structure of the data and any problems that need to be\n",
    "#   cleaned, perform those cleaning steps in the second part of this section.\n",
    "df.drop(['homepage', 'imdb_id'], axis=1, inplace=True)"
   ]
  },
  {
   "cell_type": "code",
   "execution_count": 9,
   "metadata": {},
   "outputs": [],
   "source": [
    "#list of columns\n",
    "variables = list(df.columns)"
   ]
  },
  {
   "cell_type": "code",
   "execution_count": 10,
   "metadata": {},
   "outputs": [],
   "source": [
    "#list containing the number of missing values per variable\n",
    "num_missing = list(df.isnull().sum())"
   ]
  },
  {
   "cell_type": "code",
   "execution_count": 11,
   "metadata": {},
   "outputs": [],
   "source": [
    "#use a dict comp to see `variables` and `num_missing` together\n",
    "missing_values = {k:v for (k,v) in zip(variables, num_missing)}"
   ]
  },
  {
   "cell_type": "code",
   "execution_count": 12,
   "metadata": {},
   "outputs": [],
   "source": [
    "#list containing proportion of missing values to total on a per variable basis\n",
    "# 4 dp, percent\n",
    "missing_proportion = [f'{i/10866:0.4f}%' for i in num_missing]"
   ]
  },
  {
   "cell_type": "code",
   "execution_count": 13,
   "metadata": {},
   "outputs": [],
   "source": [
    "#see the proportions per variable\n",
    "missing_val_proportions = {k:v for (k,v) in zip(variables, missing_proportion)}\n"
   ]
  },
  {
   "cell_type": "markdown",
   "metadata": {},
   "source": [
    "## Majority of variables have few missing values\n",
    "\n",
    "### To fill\n",
    "* All variables:\n",
    "    * with missing values\n",
    "    * whose proportion of missing values is 0.0000%\n",
    "    * whose values are not categorical\n",
    "\n",
    "### To drop\n",
    "* `cast`. I can easily find these online, however, that is outside the scope of this project\n",
    "* `director`. I can easily find these online, however, that is outside the scope of this project\n",
    "* `tagline`. The proportion is too high to fill meaningfully because `tagline` is a [qualitative variable](https://www.statisticshowto.com/qualitative-variable/)\n",
    "* `keywords`. I can easily find these online, however, that is outside the scope of this project\n",
    "* `overview`. I can easily find these online, however, that is outside the scope of this project\n",
    "* `genres`. I can easily find these online, however, that is outside the scope of this project\n",
    "* `production_companies`. I can easily find these online, however, that is outside the scope of this project\n"
   ]
  },
  {
   "cell_type": "code",
   "execution_count": 14,
   "metadata": {
    "scrolled": true
   },
   "outputs": [
    {
     "name": "stdout",
     "output_type": "stream",
     "text": [
      "<class 'pandas.core.frame.DataFrame'>\n",
      "Int64Index: 7032 entries, 0 to 10865\n",
      "Data columns (total 19 columns):\n",
      "id                      7032 non-null int64\n",
      "popularity              7032 non-null float64\n",
      "budget                  7032 non-null int64\n",
      "revenue                 7032 non-null int64\n",
      "original_title          7032 non-null object\n",
      "cast                    7032 non-null object\n",
      "director                7032 non-null object\n",
      "tagline                 7032 non-null object\n",
      "keywords                7032 non-null object\n",
      "overview                7032 non-null object\n",
      "runtime                 7032 non-null int64\n",
      "genres                  7032 non-null object\n",
      "production_companies    7032 non-null object\n",
      "release_date            7032 non-null object\n",
      "vote_count              7032 non-null int64\n",
      "vote_average            7032 non-null float64\n",
      "release_year            7032 non-null int64\n",
      "budget_adj              7032 non-null float64\n",
      "revenue_adj             7032 non-null float64\n",
      "dtypes: float64(4), int64(6), object(9)\n",
      "memory usage: 1.1+ MB\n"
     ]
    }
   ],
   "source": [
    "#drop values from variables discussed above\n",
    "to_drop_list = [i for i in variables if missing_val_proportions[i] != '0.0000%']\n",
    "df.dropna(axis='index', subset=to_drop_list, inplace=True)\n",
    "df.info() #7032 obs, 19 variables"
   ]
  },
  {
   "cell_type": "code",
   "execution_count": 15,
   "metadata": {},
   "outputs": [],
   "source": [
    "#drop duplicate value\n",
    "df.drop_duplicates(inplace=True)"
   ]
  },
  {
   "cell_type": "code",
   "execution_count": 25,
   "metadata": {},
   "outputs": [],
   "source": [
    "'''\n",
    "Function to drop observations in data set\n",
    "\n",
    "Takes in 1 arg: the data set\n",
    "\n",
    "Data set must be a pandas dataframe\n",
    "\n",
    "Drops missing, NA and duplicate values\n",
    "\n",
    "returns a clean dataset if successful, else, none\n",
    "'''\n",
    "\n",
    "def drop_rows(df):\n",
    "    \"\"\"function drop_rows\"\"\"\n",
    "#     df = df if df and type(df) == pandas.core.frame.DataFrame else None\n",
    "    variables = list(df.columns)\n",
    "    if df:\n",
    "        try:\n",
    "            try:\n",
    "                df.drop(['homepage', 'imdb_id'], axis=1, inplace=True)\n",
    "            except:\n",
    "                print(f'Failed to drop rows associated with selected columns')\n",
    "            try:\n",
    "                num_missing = list(df.isnull().sum())\n",
    "                missing_values = {k:v for (k,v) in zip(variables, num_missing)}           \n",
    "                missing_proportion = [f'{i/10866:0.4f}%' for i in num_missing]\n",
    "                missing_val_proportions = {k:v for (k,v) in zip(variables, missing_proportion)}\n",
    "                to_drop_list = [i for i in variables if missing_val_proportions[i] != '0.0000%']\n",
    "                df.dropna(axis='index', subset=to_drop_list, inplace=True)\n",
    "                df.info()\n",
    "            except:\n",
    "                print(f'Failed to drop null values')\n",
    "            try:\n",
    "                df.drop_duplicates(inplace=True)\n",
    "            except:\n",
    "                print(f'Failed to drop duplicate values')\n",
    "        except:\n",
    "            print(f'Drop operation failed')"
   ]
  },
  {
   "cell_type": "code",
   "execution_count": 17,
   "metadata": {},
   "outputs": [],
   "source": [
    "# Convert `release_date` type from str to datetime \n",
    "df[\"release_date\"] = pd.to_datetime(df[\"release_date\"])"
   ]
  },
  {
   "cell_type": "code",
   "execution_count": 34,
   "metadata": {},
   "outputs": [
    {
     "name": "stdout",
     "output_type": "stream",
     "text": [
      "<class 'pandas.core.frame.DataFrame'>\n",
      "Int64Index: 7031 entries, 0 to 10865\n",
      "Data columns (total 19 columns):\n",
      "id                      7031 non-null int64\n",
      "popularity              7031 non-null float64\n",
      "budget                  7031 non-null int64\n",
      "revenue                 7031 non-null int64\n",
      "original_title          7031 non-null object\n",
      "cast                    7031 non-null object\n",
      "director                7031 non-null object\n",
      "tagline                 7031 non-null object\n",
      "keywords                7031 non-null object\n",
      "overview                7031 non-null object\n",
      "runtime                 7031 non-null int64\n",
      "genres                  7031 non-null object\n",
      "production_companies    7031 non-null object\n",
      "release_date            7031 non-null datetime64[ns]\n",
      "vote_count              7031 non-null int64\n",
      "vote_average            7031 non-null float64\n",
      "release_year            7031 non-null int64\n",
      "budget_adj              7031 non-null float64\n",
      "revenue_adj             7031 non-null float64\n",
      "dtypes: datetime64[ns](1), float64(4), int64(6), object(8)\n",
      "memory usage: 1.1+ MB\n",
      "Info for dataset:\n",
      "None\n",
      "Shape of dataser:\n",
      "(7031, 19)\n",
      "Duplicates for dataset:\n",
      "False    7031\n",
      "dtype: int64\n"
     ]
    }
   ],
   "source": [
    "#See if changes have taken place\n",
    "show_props(df)"
   ]
  },
  {
   "cell_type": "code",
   "execution_count": null,
   "metadata": {},
   "outputs": [],
   "source": []
  },
  {
   "cell_type": "code",
   "execution_count": null,
   "metadata": {},
   "outputs": [],
   "source": []
  },
  {
   "cell_type": "code",
   "execution_count": null,
   "metadata": {},
   "outputs": [],
   "source": []
  },
  {
   "cell_type": "markdown",
   "metadata": {},
   "source": [
    "<a id='eda'></a>\n",
    "## Exploratory Data Analysis\n",
    "\n",
    "\n",
    "\n",
    "\n"
   ]
  },
  {
   "cell_type": "markdown",
   "metadata": {},
   "source": [
    "### Research Question 1\n",
    "\n",
    "* How does the average rating of behave over the years?\n",
    "    * Does it change at all?\n",
    "    * If yes, what is the direction of change?"
   ]
  },
  {
   "cell_type": "code",
   "execution_count": null,
   "metadata": {},
   "outputs": [],
   "source": []
  },
  {
   "cell_type": "markdown",
   "metadata": {},
   "source": [
    "* Two variables:\n",
    "    * `release_year`, which is the independent variable\n",
    "    * `rating`, the dependent variable\n",
    "* Will use `groupby` on `release_year` then find the mean of `vote_average` for each year"
   ]
  },
  {
   "cell_type": "code",
   "execution_count": 22,
   "metadata": {},
   "outputs": [],
   "source": [
    "'''\n",
    "Function to calculate mean of\n",
    "grouped data\n",
    "\n",
    "Takes in 2 args: var_1 and var_2\n",
    "\n",
    "Both args must be columns of a pandas DF\n",
    "\n",
    "return: average  of grouped data\n",
    "'''\n",
    "\n",
    "def group_avg(var_1, var_2):\n",
    "    \"\"\" function group_avg\"\"\"\n",
    "#     var_1 = var_1 if var_1 and type(var_1) == pandas.core.series.Series else None\n",
    "#     var_2 = var_2 if var_2 and type(var_2) == pandas.core.series.Series else None\n",
    "    if var_1 and var_2:\n",
    "        avg_gp_data = df.groupby(var_1)[var_2].mean()\n",
    "        return avg_gp_data\n",
    "    else:\n",
    "        print(f'Check that both arguments are columns of s pandas DF and try again')"
   ]
  },
  {
   "cell_type": "code",
   "execution_count": 24,
   "metadata": {},
   "outputs": [
    {
     "data": {
      "image/png": "[encoded data removed]",
      "text/plain": [
       "<matplotlib.figure.Figure at 0x7f6f349fac18>"
      ]
     },
     "metadata": {
      "needs_background": "light"
     },
     "output_type": "display_data"
    }
   ],
   "source": [
    "# call the groupby_avg function on `release_year` and `vote_average`\n",
    "avg_rating_time = group_avg(\"release_year\",\"vote_average\")\n",
    "\n",
    "# plot `vote_average` vs `release_year`\n",
    "avg_rating_time.plot(kind='line',color='blue',title='Average rating over the years',figsize = (10,6.18))\n",
    "# x-axis name\n",
    "plt.xlabel('Time (Year)')\n",
    "# y-axis name\n",
    "plt.ylabel('Average rating');"
   ]
  },
  {
   "cell_type": "markdown",
   "metadata": {},
   "source": [
    "#### Findings\n",
    "* Average rating changes with time\n",
    "    * the rating fluctuates\n",
    "        * rating appears to rise at the beginning of every decade then falls towards the end\n",
    "* Said rating decreases with time\n",
    "    * the trend shows that rating decreases with time despite the fluctuations"
   ]
  },
  {
   "cell_type": "markdown",
   "metadata": {},
   "source": [
    "### Research Question 2 \n",
    "* How does average revenue behave over the years?\n",
    "    * Does it change at all?\n",
    "    * If yes, what is the direction of change?"
   ]
  },
  {
   "cell_type": "markdown",
   "metadata": {},
   "source": [
    "* Two variables:\n",
    "    * `release_year`, the independent variable\n",
    "    * `revenue`, the dependent variable\n",
    "* Will use groupby on `release_year` then find the mean of `revenue` for each year"
   ]
  },
  {
   "cell_type": "code",
   "execution_count": 37,
   "metadata": {},
   "outputs": [
    {
     "data": {
      "image/png": "[encoded data removed]",
      "text/plain": [
       "<matplotlib.figure.Figure at 0x7f6f33442f98>"
      ]
     },
     "metadata": {
      "needs_background": "light"
     },
     "output_type": "display_data"
    }
   ],
   "source": [
    "#call the group_avg function on `release_year` and `revenue`\n",
    "avg_rev_time = group_avg(\"release_year\",\"revenue\")\n",
    "\n",
    "# plot `revenue` vs `release_year`\n",
    "avg_rev_time.plot(kind='line',color='blue',title='Average revenue over time',figsize = (10,6.18))\n",
    "# x-axis name\n",
    "plt.xlabel('Time (Year)')\n",
    "# y-axis name\n",
    "plt.ylabel('Average revenue');"
   ]
  },
  {
   "cell_type": "markdown",
   "metadata": {},
   "source": [
    "#### Findings\n",
    "* Average revenue changes with time\n",
    "    * the revenue fluctuates\n",
    "        * revenue appears to rise at the beginning of every decade then falls towards the end\n",
    "* Said revenue increases with time\n",
    "    * the trend shows that revenue increases with time despite the fluctuations"
   ]
  },
  {
   "cell_type": "markdown",
   "metadata": {},
   "source": [
    "### Research Question 3\n",
    "* How long, on average, is a movie?"
   ]
  },
  {
   "cell_type": "markdown",
   "metadata": {},
   "source": [
    "* QED: Find the mean of `df['runtime']`\n",
    "    * might want to see the quartiles and standard dev"
   ]
  },
  {
   "cell_type": "code",
   "execution_count": 38,
   "metadata": {},
   "outputs": [
    {
     "data": {
      "text/plain": [
       "count    7031.000000\n",
       "mean      104.839994\n",
       "std        23.804709\n",
       "min         0.000000\n",
       "25%        92.000000\n",
       "50%       101.000000\n",
       "75%       114.000000\n",
       "max       705.000000\n",
       "Name: runtime, dtype: float64"
      ]
     },
     "execution_count": 38,
     "metadata": {},
     "output_type": "execute_result"
    }
   ],
   "source": [
    "df[\"runtime\"].describe()"
   ]
  },
  {
   "cell_type": "markdown",
   "metadata": {},
   "source": [
    "#### Findings\n",
    "* the average runtime is _c._ 105 minutes\n",
    "* the longest movie lasts 705 minutes (_c._ 11h 45 min)\n",
    "* data for the shortest movie is affected by zero values; no movie is zero minutes long\n",
    "* the CV is _c._ 0.22 (i.e 23.804709/104.839994). This suggests that majority of the `runtime` observations are very close to the mean\n",
    "* mean is greater than median (50%); this suggests a skew to the right"
   ]
  },
  {
   "cell_type": "markdown",
   "metadata": {},
   "source": [
    "* histogram of the above supports the findings..."
   ]
  },
  {
   "cell_type": "code",
   "execution_count": 42,
   "metadata": {},
   "outputs": [
    {
     "data": {
      "image/png": "[encoded data removed]",
      "text/plain": [
       "<matplotlib.figure.Figure at 0x7f6f331fb860>"
      ]
     },
     "metadata": {
      "needs_background": "light"
     },
     "output_type": "display_data"
    }
   ],
   "source": [
    "# fig size\n",
    "plt.figure(figsize=(10,6.18), dpi = 100)\n",
    "\n",
    "# x-axis name\n",
    "plt.xlabel('Runtime (minutes)')\n",
    "# y-axis name \n",
    "plt.ylabel('Frequency (#movies)')\n",
    "# hist title\n",
    "plt.title('Frequency distribution of movie runtime')\n",
    "\n",
    "# plot `number of movies` vs `runtime`\n",
    "plt.hist(df['runtime'], bins =100);"
   ]
  },
  {
   "cell_type": "markdown",
   "metadata": {},
   "source": [
    "###  Research Question 4\n",
    "* What genre accounts for what proportion of the total number of movies released?"
   ]
  },
  {
   "cell_type": "markdown",
   "metadata": {},
   "source": [
    "* variable `genres` has multiple values delimited by the pipe operator, `|`\n",
    "* two options to extract values:\n",
    "    * use the module `re`\n",
    "    * use `str`, `split` and `cat` on `pd.Series`\n",
    "* will use the latter because of project requirements\n",
    "    * create a function that\n",
    "        * splits each occurrence of a value based on the delimiter\n",
    "        * counts said occurrence\n",
    "        * returns the `value_counts` of each\n",
    "* use `matplotlib` to visualise the `value_counts`"
   ]
  },
  {
   "cell_type": "code",
   "execution_count": 67,
   "metadata": {},
   "outputs": [],
   "source": [
    "'''\n",
    "Function that separates multiple values in a variable\n",
    "then calculates the number of movies in each genre\n",
    "\n",
    "Takes in one arg: var_col\n",
    "\n",
    "The arg must be a pandas DF column\n",
    "\n",
    "return: value_counts of each value if var_col, else, None\n",
    "'''\n",
    "\n",
    "def split_count(var_col):\n",
    "    \"\"\" function split_count \"\"\"\n",
    "#     var_col = var_col if var_col and type(var_col) == pandas.core.series.Series else None\n",
    "    if not var_col:\n",
    "        print(f'Please ensure that you pass in a pandas DF column to the function')\n",
    "    else:\n",
    "        split_vals = pd.Series(df[var_col].str.cat(sep = '|').split('|'))\n",
    "        count_vals = split_vals.value_counts(ascending=False)\n",
    "        return count_vals\n"
   ]
  },
  {
   "cell_type": "markdown",
   "metadata": {},
   "source": [
    "* create the visualisation..."
   ]
  },
  {
   "cell_type": "code",
   "execution_count": 130,
   "metadata": {},
   "outputs": [
    {
     "data": {
      "image/png": "[encoded data removed]",
      "text/plain": [
       "<matplotlib.figure.Figure at 0x7f6f301573c8>"
      ]
     },
     "metadata": {
      "needs_background": "light"
     },
     "output_type": "display_data"
    }
   ],
   "source": [
    "val_counts = dict(split_count(\"genres\"))\n",
    "val_counts_genres = [i for i in val_counts.keys()]\n",
    "val_counts_count = [i for i in val_counts.values()]\n",
    "total = sum(val_counts_count)\n",
    "proportions = [i/total for i in val_counts_count]\n",
    "\n",
    "data = {k:v for (k,v) in zip(val_counts_genres, proportions)}\n",
    "x = [i for i in data.keys()]\n",
    "y = [i*100 for i in data.values()]\n",
    "\n",
    "# fig size\n",
    "plt.figure(figsize=(10,6.18), dpi = 100)\n",
    "# x-axis name\n",
    "plt.xlabel('Proportion (%)')\n",
    "# y-axis name \n",
    "plt.ylabel('Genre')\n",
    "# plot title\n",
    "plt.title('Proportion of genres')\n",
    "# plot `genre` vs `proportion`\n",
    "plt.barh(x, y)\n",
    "plt.show;\n"
   ]
  },
  {
   "cell_type": "markdown",
   "metadata": {},
   "source": [
    "### Findings\n",
    "* the genre `Drama` accounts for the highest proportion of movies released\n",
    "* the genre `Foreign` accounts for the lowest proportion of movies released\n",
    "* the top 4 genres account for 48% of all movies released"
   ]
  },
  {
   "cell_type": "code",
   "execution_count": null,
   "metadata": {},
   "outputs": [],
   "source": []
  },
  {
   "cell_type": "code",
   "execution_count": null,
   "metadata": {},
   "outputs": [],
   "source": []
  },
  {
   "cell_type": "markdown",
   "metadata": {},
   "source": [
    "<a id='conclusions'></a>\n",
    "## Conclusions\n",
    "\n",
    "\n",
    "## Submitting your Project \n",
    "\n",
    "> **Tip**: Before you submit your project, you need to create a .html or .pdf version of this notebook in the workspace here. To do that, run the code cell below. If it worked correctly, you should get a return code of 0, and you should see the generated .html file in the workspace directory (click on the orange Jupyter icon in the upper left).\n",
    "\n",
    "> **Tip**: Alternatively, you can download this report as .html via the **File** > **Download as** submenu, and then manually upload it into the workspace directory by clicking on the orange Jupyter icon in the upper left, then using the Upload button.\n",
    "\n",
    "> **Tip**: Once you've done this, you can submit your project by clicking on the \"Submit Project\" button in the lower right here. This will create and submit a zip file with this .ipynb doc and the .html or .pdf version you created. Congratulations!"
   ]
  },
  {
   "cell_type": "markdown",
   "metadata": {},
   "source": [
    "# Conclusions\n",
    "\n",
    "* Average `rating` changes with time\n",
    "    * rating appears to rise at the beginning of every decade then falls towards the end\n",
    "    * the trend shows that rating decreases with time despite the fluctuations\n",
    "* Average `revenue` changes with time\n",
    "    * revenue appears to rise at the beginning of every decade then falls towards the end\n",
    "    * the trend shows that revenue increases with time despite the fluctuations\n",
    "* `runtime` statistics and inferences\n",
    "    * the average runtime is _c._ 105 minutes\n",
    "    * the longest movie lasts 705 minutes\n",
    "    * data for the shortest movie is affected by zero values; no movie is zero minutes long\n",
    "    * the CV suggests that majority of the `runtime` observations are very close to the mean\n",
    "    * mean is greater than median; this suggests a skew to the right\n",
    "* insights from the `genre` variable\n",
    "    * the genre `Drama` accounts for the highest proportion of movies released\n",
    "    * the genre `Foreign` accounts for the lowest proportion of movies released\n",
    "    * the top 4 genres account for 48% of all movies released"
   ]
  },
  {
   "cell_type": "markdown",
   "metadata": {},
   "source": [
    "# Limitations\n",
    "\n",
    "* zero values in the `runtime` variable, for example, affect statistical findings\n",
    "* _c._ 30% of the observations in the original dataset were dropped\n"
   ]
  },
  {
   "cell_type": "markdown",
   "metadata": {},
   "source": [
    "# Next steps\n",
    "* learn to use `pandas`' in-built functions\n",
    "* learn to use `seaborn`\n",
    "* learn to formulate better questions\n",
    "* learn advanced data slicing\n",
    "* learn advanced visualisation using `matplotlib` and `seaborn`\n",
    "* work on best practices"
   ]
  },
  {
   "cell_type": "code",
   "execution_count": null,
   "metadata": {},
   "outputs": [],
   "source": [
    "from subprocess import call\n",
    "call(['python', '-m', 'nbconvert', 'Investigate_a_Dataset.ipynb'])"
   ]
  }
 ],
 "metadata": {
  "kernelspec": {
   "display_name": "Python 3",
   "language": "python",
   "name": "python3"
  },
  "language_info": {
   "codemirror_mode": {
    "name": "ipython",
    "version": 3
   },
   "file_extension": ".py",
   "mimetype": "text/x-python",
   "name": "python",
   "nbconvert_exporter": "python",
   "pygments_lexer": "ipython3",
   "version": "3.6.3"
  }
 },
 "nbformat": 4,
 "nbformat_minor": 2
}
